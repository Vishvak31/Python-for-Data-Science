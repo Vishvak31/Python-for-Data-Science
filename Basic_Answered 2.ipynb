{
 "cells": [
  {
   "cell_type": "markdown",
   "metadata": {
    "id": "BGqeNi2nUTSe"
   },
   "source": [
    "## Python Basic Programming Exercises"
   ]
  },
  {
   "cell_type": "raw",
   "metadata": {
    "id": "G-GPTGMTUTSh"
   },
   "source": [
    "Q1: What is the output of following expression\n",
    "    5 + 4 * 9 % (3 + 1) / 6 - 1"
   ]
  },
  {
   "cell_type": "code",
   "execution_count": null,
   "metadata": {
    "id": "8Cb1GCAeUTSj",
    "outputId": "fd9e6b43-70cd-41c7-ed56-216849432f9a"
   },
   "outputs": [
    {
     "name": "stdout",
     "output_type": "stream",
     "text": [
      "4.0\n"
     ]
    }
   ],
   "source": [
    "print (5 + 4 * 9 % (3 + 1) / 6 - 1)"
   ]
  },
  {
   "cell_type": "raw",
   "metadata": {
    "id": "x80IEtwnUTSm"
   },
   "source": [
    "Q2: Write a program to check if a Number is Odd or Even. Take number as a input from user at runtime."
   ]
  },
  {
   "cell_type": "code",
   "execution_count": null,
   "metadata": {
    "id": "PgISA2-2UTSn",
    "outputId": "869f87db-9e28-4fd1-ff02-2c5ee163b6f0"
   },
   "outputs": [
    {
     "name": "stdout",
     "output_type": "stream",
     "text": [
      "15\n",
      "Odd\n"
     ]
    }
   ],
   "source": [
    "Input_Number=int(input())\n",
    "Is_It_Even_Or_Odd=Input_Number % 2\n",
    "\n",
    "if Is_It_Even_Or_Odd == 0:\n",
    "    Is_It_Even_Or_Odd=\"Even\"\n",
    "else:\n",
    "    Is_It_Even_Or_Odd=\"Odd\"\n",
    "\n",
    "print (Is_It_Even_Or_Odd)"
   ]
  },
  {
   "cell_type": "raw",
   "metadata": {
    "id": "pBn3_O55UTSp"
   },
   "source": [
    "Q3: Write a program to display the multiplication table by taking a number as input. \n",
    "    [Hint : Use print statement inside of a loop]"
   ]
  },
  {
   "cell_type": "code",
   "execution_count": null,
   "metadata": {
    "colab": {
     "base_uri": "https://localhost:8080/"
    },
    "id": "8gT9z_RBUTSq",
    "outputId": "85b447d1-e2f4-4513-9993-f0874261bc9d"
   },
   "outputs": [
    {
     "name": "stdout",
     "output_type": "stream",
     "text": [
      "5\n",
      "10\n",
      "15\n",
      "20\n",
      "25\n",
      "30\n",
      "35\n",
      "40\n",
      "45\n",
      "50\n"
     ]
    }
   ],
   "source": [
    "Input_Number=int(input())\n",
    "for i in range(2,11):\n",
    "    print (Input_Number*i)"
   ]
  },
  {
   "cell_type": "raw",
   "metadata": {
    "id": "FfN0D12uUTSr"
   },
   "source": [
    "Q4: Write a program which will find all numbers between 2000 and 3200 which are divisible by 7 \n",
    "    but are not a multiple of 5.\n",
    " \n",
    "Note: The numbers obtained should be printed in a comma-separated sequence on a single line."
   ]
  },
  {
   "cell_type": "code",
   "execution_count": 1,
   "metadata": {
    "id": "hEun-VAnUTSr",
    "outputId": "a0f5310c-675b-4448-c66e-44ea089a7c28"
   },
   "outputs": [
    {
     "name": "stdout",
     "output_type": "stream",
     "text": [
      "2002, 2009, 2016, 2023, 2037, 2044, 2051, 2058, 2072, 2079, 2086, 2093, 2107, 2114, 2121, 2128, 2142, 2149, 2156, 2163, 2177, 2184, 2191, 2198, 2212, 2219, 2226, 2233, 2247, 2254, 2261, 2268, 2282, 2289, 2296, 2303, 2317, 2324, 2331, 2338, 2352, 2359, 2366, 2373, 2387, 2394, 2401, 2408, 2422, 2429, 2436, 2443, 2457, 2464, 2471, 2478, 2492, 2499, 2506, 2513, 2527, 2534, 2541, 2548, 2562, 2569, 2576, 2583, 2597, 2604, 2611, 2618, 2632, 2639, 2646, 2653, 2667, 2674, 2681, 2688, 2702, 2709, 2716, 2723, 2737, 2744, 2751, 2758, 2772, 2779, 2786, 2793, 2807, 2814, 2821, 2828, 2842, 2849, 2856, 2863, 2877, 2884, 2891, 2898, 2912, 2919, 2926, 2933, 2947, 2954, 2961, 2968, 2982, 2989, 2996, 3003, 3017, 3024, 3031, 3038, 3052, 3059, 3066, 3073, 3087, 3094, 3101, 3108, 3122, 3129, 3136, 3143, 3157, 3164, 3171, 3178, 3192, 3199, "
     ]
    }
   ],
   "source": [
    "for i in range(2000,3201):\n",
    "    while i%7 == 0:\n",
    "        if i%5 != 0:\n",
    "            print (i, end=\", \")\n",
    "        i+=1"
   ]
  },
  {
   "cell_type": "raw",
   "metadata": {
    "id": "EWvg8n9hUTSs"
   },
   "source": [
    "Q5: Count the elements of each datatype inside the list and display in output\n",
    "    [2, 3, 'Py', '10', 1, 'SQL', 5.5, True, 3, 'John', None, 7]    "
   ]
  },
  {
   "cell_type": "code",
   "execution_count": 7,
   "metadata": {
    "colab": {
     "base_uri": "https://localhost:8080/"
    },
    "id": "RcQInIQoUTSt",
    "outputId": "ccd18466-60e8-41f0-b824-5ec4a5c07cf9"
   },
   "outputs": [
    {
     "name": "stdout",
     "output_type": "stream",
     "text": [
      "Count of Integer is: 5\n",
      "Count of String is: 4\n",
      "Count of Float is: 1\n",
      "Count of Bool is: 1\n"
     ]
    }
   ],
   "source": [
    "List_Val=[2, 3, 'Py', '10', 1, 'SQL', 5.5, True, 3, 'John', None, 7]\n",
    "# print(type(List_Val[1]))\n",
    "Int_Val=0\n",
    "Str_Val=0\n",
    "Float_Val=0\n",
    "Bool_Val=0\n",
    "\n",
    "for i in List_Val:\n",
    "    if type(i)==int:\n",
    "    # print(i)\n",
    "        Int_Val=Int_Val+1\n",
    "    # print(Int_Val)\n",
    "    if type(i)==str:\n",
    "        Str_Val=Str_Val+1\n",
    "    if type(i)==float:\n",
    "        Float_Val=Float_Val+1\n",
    "    if type(i)==bool:\n",
    "        Bool_Val=Bool_Val+1\n",
    "  \n",
    "  # print(i)\n",
    "\n",
    "print(\"Count of Integer is:\",Int_Val)\n",
    "print(\"Count of String is:\",Str_Val)\n",
    "print(\"Count of Float is:\",Float_Val)\n",
    "print(\"Count of Bool is:\",Bool_Val)\n",
    "# Count_In_List=List_Val.count('Py')\n",
    "# print(Count_In_List)"
   ]
  },
  {
   "cell_type": "raw",
   "metadata": {
    "id": "z1ymJ4XKUTSu"
   },
   "source": [
    "Q6: Add all values from the list with numeric datatypes \n",
    "    [2, 3, 'Py', '10', 1, 'SQL', 5.5, True, 3, 'John', None, 7] "
   ]
  },
  {
   "cell_type": "code",
   "execution_count": null,
   "metadata": {
    "id": "wfFvM9wVUTSv",
    "outputId": "6e053e55-4e57-429d-f75b-2808ce98bb98"
   },
   "outputs": [
    {
     "name": "stdout",
     "output_type": "stream",
     "text": [
      "16\n"
     ]
    }
   ],
   "source": [
    "List_Val=[2, 3, 'Py', '10', 1, 'SQL', 5.5, True, 3, 'John', None, 7]\n",
    "Int_Addition=0\n",
    "for i in range(len(List_Val)):\n",
    "    if type(List_Val[i])==int:\n",
    "        Int_Addition=Int_Addition+List_Val[i]\n",
    "    i+=1\n",
    "print (Int_Addition)"
   ]
  },
  {
   "cell_type": "raw",
   "metadata": {
    "id": "eFcGoS1hUTSw"
   },
   "source": [
    "Q7: Concat all str datatypes with hyphen as a delimiter\n",
    "    [2, 3, 'Py', '10', 1, 'SQL', 5.5, True, 3, 'John', None, 7] "
   ]
  },
  {
   "cell_type": "code",
   "execution_count": 27,
   "metadata": {
    "id": "j_XrW4f1UTSw",
    "outputId": "1cae0fc9-d316-4830-9043-79e160c1fd3e"
   },
   "outputs": [
    {
     "name": "stdout",
     "output_type": "stream",
     "text": [
      "Py-10-SQL-John-\n"
     ]
    }
   ],
   "source": [
    "List_Val=[2, 3, 'Py', '10', 1, 'SQL', 5.5, True, 3, 'John', None, 7]\n",
    "Str_Addition=\"\"\n",
    "for i in range(len(List_Val)):\n",
    "    if type(List_Val[i])==str:\n",
    "        Str_Addition=Str_Addition + List_Val[i] + \"-\"\n",
    "    i+=1\n",
    "    \n",
    "print (Str_Addition)\n"
   ]
  },
  {
   "cell_type": "raw",
   "metadata": {
    "id": "XqkIhQIlUTSx"
   },
   "source": [
    "Q8: Write a UDF that takes list as input and returns sum of all numbers \n",
    "    (exclude bool) and count of all str \n",
    "    [2, 3, 'Py', '10', 1, 'SQL', 5.5, True, 3, 'John', None, 7] \n",
    "    \n",
    "Hint:\n",
    "-----\n",
    "def my_func:\n",
    "    # your code\n",
    "        \n",
    "my_func(l1)\n",
    "# output --> {'Sum': xxx, 'Count_of_Strs': xxx}"
   ]
  },
  {
   "cell_type": "code",
   "execution_count": null,
   "metadata": {
    "id": "9O_M9M4tUTSy"
   },
   "outputs": [],
   "source": [
    "import pdb"
   ]
  },
  {
   "cell_type": "code",
   "execution_count": 37,
   "metadata": {},
   "outputs": [
    {
     "data": {
      "text/plain": [
       "{'Sum of Integers': 24, 'Count of String': 4}"
      ]
     },
     "execution_count": 37,
     "metadata": {},
     "output_type": "execute_result"
    }
   ],
   "source": [
    "def my_func(Value):\n",
    "    Int_Addition=0\n",
    "    Str_Count=0\n",
    "    for i in range(len(Value)):\n",
    "        if type(Value[i])==int:\n",
    "            #print (Value[i])\n",
    "            Int_Addition=Int_Addition+i\n",
    "        if type(Value[i])==str:\n",
    "            Str_Count=Str_Count+1\n",
    "            \n",
    "    Output_Val={'Sum of Integers':Int_Addition,'Count of String':Str_Count}\n",
    "    return Output_Val\n",
    "            \n",
    "        \n",
    "my_func(Value=[2, 3, 'Py', '10', 1, 'SQL', 5.5, True, 3, 'John', None, 7])"
   ]
  },
  {
   "cell_type": "raw",
   "metadata": {
    "id": "aJr8lrkeUTS0"
   },
   "source": [
    "Q9: Get only odd numbers from the following list and store the numbers in new list\n",
    "    li = [5, 7, 22, 97, 54, 62, 77, 23, 73, 61]\n",
    "\n",
    "    i. Use loops to get the answer\n",
    "   ii. Use list comprehensions\n",
    "  iii. Use lambda function with filter"
   ]
  },
  {
   "cell_type": "code",
   "execution_count": 39,
   "metadata": {
    "id": "Y-HFJDlkUTS1",
    "outputId": "8911edeb-d166-4038-80d1-208395483b5a"
   },
   "outputs": [
    {
     "name": "stdout",
     "output_type": "stream",
     "text": [
      "[5, 7, 97, 77, 23, 73, 61]\n",
      "[5, 7, 97, 77, 23, 73, 61]\n"
     ]
    }
   ],
   "source": [
    "li = [5, 7, 22, 97, 54, 62, 77, 23, 73, 61]\n",
    "output=[]\n",
    "for i in li:\n",
    "    if i%2 != 0:\n",
    "        output.append(i)\n",
    "print(output)\n",
    "\n",
    "#OR\n",
    "\n",
    "output=list(filter(lambda x:(x%2!=0),li))\n",
    "print(output)"
   ]
  },
  {
   "cell_type": "raw",
   "metadata": {
    "id": "yHDdvvsXUTS1"
   },
   "source": [
    "Q10: Write a UDF to return the descriptives [sum, count, min, mean, max] for a list of n number of input \n",
    "    numbers."
   ]
  },
  {
   "cell_type": "code",
   "execution_count": null,
   "metadata": {
    "colab": {
     "base_uri": "https://localhost:8080/"
    },
    "id": "3lQL8csEUTS2",
    "outputId": "10b6289e-24fc-4aef-a1b3-35495675d340"
   },
   "outputs": [
    {
     "name": "stdout",
     "output_type": "stream",
     "text": [
      "10000 300000000 8\n"
     ]
    },
    {
     "data": {
      "text/plain": [
       "(300010008, 3, 8, 300000000)"
      ]
     },
     "execution_count": 34,
     "metadata": {
      "tags": []
     },
     "output_type": "execute_result"
    }
   ],
   "source": [
    "a=input()\n",
    "L1=[int(i) for i in a.split(' ') if i.isdigit()]\n",
    "# print(L1)\n",
    "# L1=[390, 540, 1998, 8888, 75]\n",
    "\n",
    "def Perform_Actions(L1):\n",
    "    SumOfList=sum(L1)\n",
    "    CountOfList=len(L1)\n",
    "    MinOfList=min(L1)\n",
    "    MaxOfList=max(L1)\n",
    "    return SumOfList, CountOfList, MinOfList, MaxOfList\n",
    "\n",
    "Perform_Actions(L1)"
   ]
  },
  {
   "cell_type": "raw",
   "metadata": {
    "id": "n2v_NQMfUTS3"
   },
   "source": [
    "Q11: Write an udf to calculate the area of different shapes\n",
    "\n",
    "Take shape and dimensions as arguments to udf as follows : \n",
    "\n",
    "1. square which has side\n",
    "2. rectangle which has length and width\n",
    "3. circle which has radius\n",
    "\n",
    "The shape should be a positional argument and it's dimensions are taken as kwargs\n",
    "\n",
    "Perform proper validation for the user inputs and then calculate area.\n",
    "\n",
    "E.g. if shape is square, ensure kwargs has \"side\" and if so, then you may return the area, else display appropriate error message like \"Please enter 'side' for a square\""
   ]
  },
  {
   "cell_type": "code",
   "execution_count": null,
   "metadata": {
    "id": "xJUQBOTiUTS4",
    "outputId": "b6264f83-f841-49f4-d020-ad8fa77e07e2"
   },
   "outputs": [
    {
     "name": "stdout",
     "output_type": "stream",
     "text": [
      "40\n",
      "20\n",
      "78.5\n"
     ]
    }
   ],
   "source": [
    "def some_function(**kwargs):\n",
    "    for key, value in kwargs.items():\n",
    "        \n",
    "        if key=='Square' and value != \"\" and type(value)==int:\n",
    "            AreaOfSquare=value*value\n",
    "            print(AreaOfSquare)\n",
    "        elif key== 'Square'and value == \"\" or key== 'Square'and type(value)==str:\n",
    "            print(\"Please enter side for square\")\n",
    "        \n",
    "        if key=='Rectangle' and value != \"\"and type(value[0])==int and type(value[1])==int:\n",
    "            AreaOfRectangle=value[0]*value[1]\n",
    "            print(AreaOfRectangle)\n",
    "            \n",
    "        elif key=='Rectangle' and value == \"\" or key=='Rectangle' and type(value[0])==str and type(value[0])==str:\n",
    "            print(\"Please enter the sides for rectange\")\n",
    "                  \n",
    "        if key=='Circle' and value != \"\" and type(value)==int:\n",
    "            pi=3.14\n",
    "            AreaOfCircle=pi*value*value\n",
    "            print(AreaOfCircle)\n",
    "        elif key=='Circle' and value == \"\" or key== 'Circle'and type(value)==str:\n",
    "            print(\"Please enter the radius for the circle\")\n",
    "            \n",
    "\n",
    "some_function(Square=10, Rectangle=[5,4],Circle=5)"
   ]
  },
  {
   "cell_type": "raw",
   "metadata": {
    "id": "hzD_aavsUTS5"
   },
   "source": [
    "Q12: Write a UDF to reconcile the values within two lists.\n",
    "    l1 = ['January', 'February', 'March', 'May', 'June', 'September', 'December']\n",
    "    l2 = ['January', 'February', 'April', 'June', 'October', 'December']\n",
    "\n",
    "Hint:\n",
    "-----\n",
    "def func(l1, l2):\n",
    "    your code here...\n",
    "    \n",
    "Output:\n",
    "{'Matched': ['January', 'February', 'June', 'December'],\n",
    "    'Only in l1': ['March', 'May', 'September'],\n",
    "        'Only in l2': ['April', 'October']}"
   ]
  },
  {
   "cell_type": "code",
   "execution_count": null,
   "metadata": {
    "colab": {
     "base_uri": "https://localhost:8080/"
    },
    "id": "iC4nmtOyUTS6",
    "outputId": "fd8abf70-c096-4ff1-936d-59df0fb07834"
   },
   "outputs": [
    {
     "name": "stdout",
     "output_type": "stream",
     "text": [
      "{'Matched': ['January', 'February', 'June', 'December'], 'Only in L1': ['March', 'May', 'September'], 'Only in L2': ['April', 'October']}\n"
     ]
    }
   ],
   "source": [
    "l1 = ['January', 'February', 'March', 'May', 'June', 'September', 'December']\n",
    "l2 = ['January', 'February', 'April', 'June', 'October', 'December']\n",
    "ListMatched=[]\n",
    "OnlyInL1=[]\n",
    "OnlyinL2=[]\n",
    "\n",
    "def Sumfunc(l1,l2):\n",
    "    ListMatched=[value for value in l1 if value in l2]\n",
    "    OnlyInL1=[value for value in l1 if value not in l2]\n",
    "    OnlyinL2=[value for value in l2 if value not in l1]\n",
    "\n",
    "    Dictionary={\n",
    "\n",
    "        'Matched':ListMatched, \n",
    "        \"Only in L1\": OnlyInL1, \n",
    "        \"Only in L2\": OnlyinL2\n",
    "\n",
    "    }\n",
    "    \n",
    "    # Dict2=Dictionary\n",
    "\n",
    "    return Dictionary\n",
    "    \n",
    "print(Sumfunc(l1,l2))"
   ]
  },
  {
   "cell_type": "raw",
   "metadata": {
    "collapsed": true,
    "id": "iRcI3YMMUTS8"
   },
   "source": [
    "Q13: write a UDF to check if a number is prime or not."
   ]
  },
  {
   "cell_type": "code",
   "execution_count": 42,
   "metadata": {
    "id": "QAjeD1gxUTS9",
    "outputId": "1d8c3f3c-d6ef-43c2-a2b7-8b572549e12b"
   },
   "outputs": [
    {
     "name": "stdout",
     "output_type": "stream",
     "text": [
      "12 is not a prime number.\n"
     ]
    }
   ],
   "source": [
    "def PrimeOrNot(num):\n",
    "    \n",
    "    if num > 1:\n",
    "\n",
    "        for i in range(2, int(num/2)+1):\n",
    "\n",
    "            if (num % i) == 0:\n",
    "                print(num, \"is not a prime number.\")\n",
    "                break\n",
    "        else:\n",
    "            print(num, \"is a prime number.\")\n",
    "\n",
    "    else:\n",
    "        print(num, \"is not a prime number.\")\n",
    "    \n",
    "\n",
    "PrimeOrNot(num=12)\n"
   ]
  },
  {
   "cell_type": "raw",
   "metadata": {
    "collapsed": true,
    "id": "Oy32BWLBUTS-"
   },
   "source": [
    "Q14. Write a program which can compute the factorial of a given numbers. \n",
    "#   The results should be printed in a comma-separated sequence on a single line. \n",
    "# input() function can be used for getting user(console) input\n",
    "\n",
    "\n",
    "#Suppose the input is supplied to the program:  8  \n",
    "#Then, the output should be:  40320 \n",
    "#Hints: In case of input data being supplied to the question, it should be assumed to be a console input. \n"
   ]
  },
  {
   "cell_type": "code",
   "execution_count": 43,
   "metadata": {
    "id": "mncSevopUTTA",
    "outputId": "254897cd-877d-4cb6-c69d-46e8f6a2d3e7"
   },
   "outputs": [
    {
     "name": "stdout",
     "output_type": "stream",
     "text": [
      "Enter a number: 8\n",
      "Factorial of  8  is :  40320\n"
     ]
    }
   ],
   "source": [
    "n = input(\"Enter a number: \")\n",
    "factorial = 1\n",
    "if int(n) >= 1:\n",
    "    for i in range (1,int(n)+1):\n",
    "       factorial = factorial * i\n",
    "print(\"Factorial of \",n , \" is : \",factorial)\n"
   ]
  },
  {
   "cell_type": "raw",
   "metadata": {
    "collapsed": true,
    "id": "3fJxjTqYUTTA"
   },
   "source": [
    "Q15. With a given integral number n, write a program to generate a dictionary that contains (i, i*i) such that is an integral number between 1 and n (both included). and then the program should print the dictionary.\n",
    "\n",
    "#Suppose the following input is supplied to the program: 8\n",
    "#Then, the output should be: {1: 1, 2: 4, 3: 9, 4: 16, 5: 25, 6: 36, 7: 49, 8: 64}\n",
    "#Hints: In case of input data being supplied to the question, it should be assumed to be a console input. Consider using dict()\n",
    "\n"
   ]
  },
  {
   "cell_type": "code",
   "execution_count": null,
   "metadata": {
    "id": "1cXxEd6nUTTB",
    "outputId": "6aa42fde-b31b-4dcf-9f64-cd284c341df8"
   },
   "outputs": [
    {
     "name": "stdout",
     "output_type": "stream",
     "text": [
      "Enter a number: 8\n",
      "{1: 1, 2: 4, 3: 9, 4: 16, 5: 25, 6: 36, 7: 49, 8: 64}\n"
     ]
    }
   ],
   "source": [
    "n=int(input(\"Enter a number: \"))\n",
    "\n",
    "Dictionary={}\n",
    "\n",
    "for i in range(1,n+1):\n",
    "    keyy=i\n",
    "    Values=i*i\n",
    "    pass\n",
    "    Dictionary[keyy]=Values\n",
    "    \n",
    "print(Dictionary)"
   ]
  },
  {
   "cell_type": "raw",
   "metadata": {
    "collapsed": true,
    "id": "haXM50QMUTTC"
   },
   "source": [
    "Q16. Write a program which accepts a sequence of comma-separated numbers from console and generate a list and a tuple which contains every number.\n",
    "#Suppose the following input is supplied to the program: 34,67,55,33,12,98\n",
    "    #Then, the output should be: ['34', '67', '55', '33', '12', '98'] ('34', '67', '55', '33', '12', '98')\n",
    "\n",
    "#Hints: In case of input data being supplied to the question, it should be assumed to be a console input. you may use tuple() method to convert list to tuple\n"
   ]
  },
  {
   "cell_type": "code",
   "execution_count": null,
   "metadata": {
    "id": "0fJL8b6WUTTC",
    "outputId": "a04e6255-e7ca-47fe-9753-dd0197de7b5b"
   },
   "outputs": [
    {
     "name": "stdout",
     "output_type": "stream",
     "text": [
      "[34, 67, 55, 33, 12, 98]\n",
      "(34, 67, 55, 33, 12, 98)\n"
     ]
    }
   ],
   "source": [
    "l1=[34,67,55,33,12,98]\n",
    "l2=[]\n",
    "Tuple=()\n",
    "for i in range(len(l1)):\n",
    "    val=l1[i]\n",
    "    l2.append(l1[i])\n",
    "    Tuple=Tuple+(val,)\n",
    "    pass\n",
    "print(l2)\n",
    "print(Tuple)"
   ]
  },
  {
   "cell_type": "raw",
   "metadata": {
    "collapsed": true,
    "id": "wrVYuJHEUTTD"
   },
   "source": [
    "Q17. Write a program that accepts a comma separated sequence of words as input and \n",
    "# prints the words in a comma-separated sequence after sorting them alphabetically.\n",
    "\n",
    "# Suppose the following input is supplied to the program: without,hello,bag,world\n",
    "# Then, the output should be: bag,hello,without,world\n",
    "\n",
    "#Hints: In case of input data being supplied to the question, it should be assumed to be a console input.\n"
   ]
  },
  {
   "cell_type": "code",
   "execution_count": null,
   "metadata": {
    "id": "rOc5Y1DfUTTE",
    "outputId": "28b7965b-a108-4dcb-8468-8184cda9054c"
   },
   "outputs": [
    {
     "name": "stdout",
     "output_type": "stream",
     "text": [
      "The quick brown fox jumps over a lazy dog.\n",
      "['a', 'brown', 'dog.', 'fox', 'jumps', 'lazy', 'over', 'quick', 'the']\n"
     ]
    }
   ],
   "source": [
    "a=str.lower(input()).split(\" \")\n",
    "a.sort()\n",
    "print(a)"
   ]
  },
  {
   "cell_type": "raw",
   "metadata": {
    "collapsed": true,
    "id": "4t9gdYuPUTTF"
   },
   "source": [
    "Q18. Write a program that accepts a sequence of whitespace separated words \n",
    "# as input and prints the words after removing all duplicate words and sorting them alphanumerically.\n",
    "# Suppose the following input is supplied to the program: hello world and practice makes perfect and hello world again\n",
    "# Then, the output should be: again and hello makes perfect practice world\n",
    "\n",
    "#Hints: In case of input data being supplied to the question, it should be assumed to be a console input.\n",
    "#We use set container to remove duplicated data automatically and then use sorted() to sort the data.\n"
   ]
  },
  {
   "cell_type": "code",
   "execution_count": null,
   "metadata": {
    "id": "EesxoclmUTTG",
    "outputId": "418e4256-ab5f-478d-c3e7-076b37ae4db6"
   },
   "outputs": [
    {
     "name": "stdout",
     "output_type": "stream",
     "text": [
      "hello world and practice makes perfect and hello world again\n",
      "The sentence without duplicates are:  ['again', 'and', 'hello', 'makes', 'perfect', 'practice', 'world']\n"
     ]
    }
   ],
   "source": [
    "str1=input()\n",
    "#str1=\"hello world and practice makes perfect and hello world again\"\n",
    "str2=str1.split()\n",
    "\n",
    "l1=[]\n",
    "\n",
    "for i in str2:\n",
    "    if (i not in l1):\n",
    "        l1.append(i)\n",
    "        \n",
    "l1.sort()\n",
    "print(\"The sentence without duplicates are: \",l1)"
   ]
  },
  {
   "cell_type": "raw",
   "metadata": {
    "collapsed": true,
    "id": "dQmOURR7UTTH"
   },
   "source": [
    "Q19. Write a program that accepts a sentence and calculate the number of upper case \n",
    "# letters and lower case letters.\n",
    "#Suppose the following input is supplied to the program: Hello world!\n",
    "#Then, the output should be: UPPER CASE 1 LOWER CASE 9\n",
    "\n",
    "#Hints: In case of input data being supplied to the question, it should be assumed to be a console input.\n"
   ]
  },
  {
   "cell_type": "code",
   "execution_count": null,
   "metadata": {
    "id": "Pj4Ic5dNUTTH",
    "outputId": "37eadbd3-38b0-4f36-a2af-36b50abe47cb"
   },
   "outputs": [
    {
     "name": "stdout",
     "output_type": "stream",
     "text": [
      "Hello WorLd\n",
      "The number of lowercase characters is: 7\n",
      "The number of uppercase characters is: 3\n"
     ]
    }
   ],
   "source": [
    "a=input()\n",
    "\n",
    "count1=0\n",
    "count2=0\n",
    "\n",
    "for i in a:\n",
    "    if(i.islower()):\n",
    "        count1=count1+1\n",
    "    elif (i.isupper()):\n",
    "        count2=count2+1\n",
    "print(\"The number of lowercase characters is:\",count1)\n",
    "print(\"The number of uppercase characters is:\",count2)"
   ]
  },
  {
   "cell_type": "raw",
   "metadata": {
    "collapsed": true,
    "id": "gAei_SOmUTTI"
   },
   "source": [
    "Q20. Write a program that takes a string and returns reversed string. i.e. if input is \"abcd123\" output should be \"321dcba\""
   ]
  },
  {
   "cell_type": "code",
   "execution_count": null,
   "metadata": {
    "id": "eOJyABxXUTTJ",
    "outputId": "33bd187d-baca-433b-e014-e9052d84b122"
   },
   "outputs": [
    {
     "name": "stdout",
     "output_type": "stream",
     "text": [
      "321\n",
      "The reversed string is : 123\n"
     ]
    }
   ],
   "source": [
    "s=input()\n",
    "\n",
    "def func(s):\n",
    "    str = \"\"\n",
    "    for i in s:\n",
    "        str = i + str\n",
    "    return str\n",
    "\n",
    "print (\"The reversed string is : \",end=\"\")\n",
    "\n",
    "print (func(s))"
   ]
  }
 ],
 "metadata": {
  "colab": {
   "collapsed_sections": [],
   "name": "Basic Answered.ipynb",
   "provenance": []
  },
  "kernelspec": {
   "display_name": "Python 3",
   "language": "python",
   "name": "python3"
  },
  "language_info": {
   "codemirror_mode": {
    "name": "ipython",
    "version": 3
   },
   "file_extension": ".py",
   "mimetype": "text/x-python",
   "name": "python",
   "nbconvert_exporter": "python",
   "pygments_lexer": "ipython3",
   "version": "3.8.10"
  },
  "varInspector": {
   "cols": {
    "lenName": 16,
    "lenType": 16,
    "lenVar": 40
   },
   "kernels_config": {
    "python": {
     "delete_cmd_postfix": "",
     "delete_cmd_prefix": "del ",
     "library": "var_list.py",
     "varRefreshCmd": "print(var_dic_list())"
    },
    "r": {
     "delete_cmd_postfix": ") ",
     "delete_cmd_prefix": "rm(",
     "library": "var_list.r",
     "varRefreshCmd": "cat(var_dic_list()) "
    }
   },
   "types_to_exclude": [
    "module",
    "function",
    "builtin_function_or_method",
    "instance",
    "_Feature"
   ],
   "window_display": false
  }
 },
 "nbformat": 4,
 "nbformat_minor": 1
}
