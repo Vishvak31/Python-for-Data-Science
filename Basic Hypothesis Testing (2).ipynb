{
 "cells": [
  {
   "cell_type": "code",
   "execution_count": 108,
   "id": "f7a42811",
   "metadata": {},
   "outputs": [],
   "source": [
    "import numpy as np\n",
    "import pandas as pd\n",
    "from scipy import stats\n",
    "import seaborn as sns\n",
    "from matplotlib import pyplot as plt\n",
    "import datetime as d"
   ]
  },
  {
   "cell_type": "markdown",
   "id": "875cd4a7",
   "metadata": {},
   "source": [
    "<h1><center>BUSINESS PROBLEM 1 - Lending Club Loans"
   ]
  },
  {
   "cell_type": "code",
   "execution_count": 109,
   "id": "e60d958f",
   "metadata": {},
   "outputs": [],
   "source": [
    "df1=pd.read_csv('LoansData.csv')"
   ]
  },
  {
   "cell_type": "code",
   "execution_count": 110,
   "id": "a58a517d",
   "metadata": {},
   "outputs": [
    {
     "name": "stdout",
     "output_type": "stream",
     "text": [
      "<class 'pandas.core.frame.DataFrame'>\n",
      "RangeIndex: 2500 entries, 0 to 2499\n",
      "Data columns (total 14 columns):\n",
      " #   Column                          Non-Null Count  Dtype  \n",
      "---  ------                          --------------  -----  \n",
      " 0   Amount.Requested                2499 non-null   float64\n",
      " 1   Amount.Funded.By.Investors      2499 non-null   float64\n",
      " 2   Interest.Rate                   2498 non-null   object \n",
      " 3   Loan.Length                     2500 non-null   object \n",
      " 4   Loan.Purpose                    2500 non-null   object \n",
      " 5   Debt.To.Income.Ratio            2499 non-null   object \n",
      " 6   State                           2500 non-null   object \n",
      " 7   Home.Ownership                  2499 non-null   object \n",
      " 8   Monthly.Income                  2499 non-null   float64\n",
      " 9   FICO.Range                      2498 non-null   object \n",
      " 10  Open.CREDIT.Lines               2497 non-null   float64\n",
      " 11  Revolving.CREDIT.Balance        2497 non-null   float64\n",
      " 12  Inquiries.in.the.Last.6.Months  2497 non-null   float64\n",
      " 13  Employment.Length               2423 non-null   object \n",
      "dtypes: float64(6), object(8)\n",
      "memory usage: 273.6+ KB\n"
     ]
    }
   ],
   "source": [
    "df1.info()"
   ]
  },
  {
   "cell_type": "code",
   "execution_count": 111,
   "id": "b0e2062b",
   "metadata": {},
   "outputs": [],
   "source": [
    "df1.columns=[col.replace('.','_') for col in df1.columns]"
   ]
  },
  {
   "cell_type": "code",
   "execution_count": 112,
   "id": "ea01a2a3",
   "metadata": {},
   "outputs": [
    {
     "data": {
      "text/plain": [
       "Index(['Amount_Requested', 'Amount_Funded_By_Investors', 'Interest_Rate',\n",
       "       'Loan_Length', 'Loan_Purpose', 'Debt_To_Income_Ratio', 'State',\n",
       "       'Home_Ownership', 'Monthly_Income', 'FICO_Range', 'Open_CREDIT_Lines',\n",
       "       'Revolving_CREDIT_Balance', 'Inquiries_in_the_Last_6_Months',\n",
       "       'Employment_Length'],\n",
       "      dtype='object')"
      ]
     },
     "execution_count": 112,
     "metadata": {},
     "output_type": "execute_result"
    }
   ],
   "source": [
    "df1.columns"
   ]
  },
  {
   "cell_type": "code",
   "execution_count": 113,
   "id": "66f9e153",
   "metadata": {},
   "outputs": [
    {
     "name": "stdout",
     "output_type": "stream",
     "text": [
      "<class 'pandas.core.frame.DataFrame'>\n",
      "RangeIndex: 2500 entries, 0 to 2499\n",
      "Data columns (total 14 columns):\n",
      " #   Column                          Non-Null Count  Dtype  \n",
      "---  ------                          --------------  -----  \n",
      " 0   Amount_Requested                2499 non-null   float64\n",
      " 1   Amount_Funded_By_Investors      2499 non-null   float64\n",
      " 2   Interest_Rate                   2498 non-null   object \n",
      " 3   Loan_Length                     2500 non-null   object \n",
      " 4   Loan_Purpose                    2500 non-null   object \n",
      " 5   Debt_To_Income_Ratio            2499 non-null   object \n",
      " 6   State                           2500 non-null   object \n",
      " 7   Home_Ownership                  2499 non-null   object \n",
      " 8   Monthly_Income                  2499 non-null   float64\n",
      " 9   FICO_Range                      2498 non-null   object \n",
      " 10  Open_CREDIT_Lines               2497 non-null   float64\n",
      " 11  Revolving_CREDIT_Balance        2497 non-null   float64\n",
      " 12  Inquiries_in_the_Last_6_Months  2497 non-null   float64\n",
      " 13  Employment_Length               2423 non-null   object \n",
      "dtypes: float64(6), object(8)\n",
      "memory usage: 273.6+ KB\n"
     ]
    }
   ],
   "source": [
    "df1.info()"
   ]
  },
  {
   "cell_type": "code",
   "execution_count": 114,
   "id": "48a34e1e",
   "metadata": {},
   "outputs": [
    {
     "data": {
      "text/plain": [
       "Amount_Requested                   1\n",
       "Amount_Funded_By_Investors         1\n",
       "Interest_Rate                      2\n",
       "Loan_Length                        0\n",
       "Loan_Purpose                       0\n",
       "Debt_To_Income_Ratio               1\n",
       "State                              0\n",
       "Home_Ownership                     1\n",
       "Monthly_Income                     1\n",
       "FICO_Range                         2\n",
       "Open_CREDIT_Lines                  3\n",
       "Revolving_CREDIT_Balance           3\n",
       "Inquiries_in_the_Last_6_Months     3\n",
       "Employment_Length                 77\n",
       "dtype: int64"
      ]
     },
     "execution_count": 114,
     "metadata": {},
     "output_type": "execute_result"
    }
   ],
   "source": [
    "df1.isna().sum()"
   ]
  },
  {
   "cell_type": "code",
   "execution_count": 115,
   "id": "8cb1bbf2",
   "metadata": {},
   "outputs": [],
   "source": [
    "def handling_missing_values(x):\n",
    "    if ((x.dtype=='float') or (x.dtype=='int')):\n",
    "        x=x.fillna(x.median())\n",
    "    elif ((x.dtype=='object') or (x.dtype=='o')):\n",
    "        x=x.fillna(x.mode()[0])\n",
    "    else:\n",
    "        x\n",
    "    return x"
   ]
  },
  {
   "cell_type": "code",
   "execution_count": 116,
   "id": "1fb7af03",
   "metadata": {},
   "outputs": [],
   "source": [
    "df1=df1.apply(handling_missing_values)"
   ]
  },
  {
   "cell_type": "code",
   "execution_count": 117,
   "id": "4ec26961",
   "metadata": {},
   "outputs": [
    {
     "data": {
      "text/plain": [
       "Amount_Requested                  0\n",
       "Amount_Funded_By_Investors        0\n",
       "Interest_Rate                     0\n",
       "Loan_Length                       0\n",
       "Loan_Purpose                      0\n",
       "Debt_To_Income_Ratio              0\n",
       "State                             0\n",
       "Home_Ownership                    0\n",
       "Monthly_Income                    0\n",
       "FICO_Range                        0\n",
       "Open_CREDIT_Lines                 0\n",
       "Revolving_CREDIT_Balance          0\n",
       "Inquiries_in_the_Last_6_Months    0\n",
       "Employment_Length                 0\n",
       "dtype: int64"
      ]
     },
     "execution_count": 117,
     "metadata": {},
     "output_type": "execute_result"
    }
   ],
   "source": [
    "df1.isna().sum()"
   ]
  },
  {
   "cell_type": "code",
   "execution_count": 118,
   "id": "313f6f51",
   "metadata": {},
   "outputs": [
    {
     "data": {
      "text/plain": [
       "<AxesSubplot:>"
      ]
     },
     "execution_count": 118,
     "metadata": {},
     "output_type": "execute_result"
    },
    {
     "data": {
      "image/png": "[encoded data removed]",
      "text/plain": [
       "<Figure size 1440x720 with 1 Axes>"
      ]
     },
     "metadata": {
      "needs_background": "light"
     },
     "output_type": "display_data"
    }
   ],
   "source": [
    "df1.plot(kind='box',figsize=(20,10))"
   ]
  },
  {
   "cell_type": "code",
   "execution_count": 119,
   "id": "d3523163",
   "metadata": {},
   "outputs": [
    {
     "data": {
      "text/plain": [
       "1000.0"
      ]
     },
     "execution_count": 119,
     "metadata": {},
     "output_type": "execute_result"
    }
   ],
   "source": [
    "df1.Amount_Requested.min()"
   ]
  },
  {
   "cell_type": "code",
   "execution_count": 120,
   "id": "952b7e9f",
   "metadata": {},
   "outputs": [
    {
     "data": {
      "text/plain": [
       "1500.0"
      ]
     },
     "execution_count": 120,
     "metadata": {},
     "output_type": "execute_result"
    }
   ],
   "source": [
    "df1.Amount_Requested.quantile(0.01)"
   ]
  },
  {
   "cell_type": "code",
   "execution_count": 121,
   "id": "ef364249",
   "metadata": {},
   "outputs": [
    {
     "data": {
      "text/plain": [
       "35000.0"
      ]
     },
     "execution_count": 121,
     "metadata": {},
     "output_type": "execute_result"
    }
   ],
   "source": [
    "df1.Amount_Requested.max()"
   ]
  },
  {
   "cell_type": "code",
   "execution_count": 122,
   "id": "7f6ec5df",
   "metadata": {},
   "outputs": [
    {
     "data": {
      "text/plain": [
       "35000.0"
      ]
     },
     "execution_count": 122,
     "metadata": {},
     "output_type": "execute_result"
    }
   ],
   "source": [
    "df1.Amount_Requested.quantile(0.99)"
   ]
  },
  {
   "cell_type": "code",
   "execution_count": 123,
   "id": "9387daeb",
   "metadata": {},
   "outputs": [],
   "source": [
    "def handling_outlier(x):\n",
    "    if ((x.dtype=='float') or (x.dtype=='int')):\n",
    "        x=x.clip(lower=x.quantile(0.01),upper=x.quantile(0.99))\n",
    "    else:\n",
    "        x\n",
    "    return x"
   ]
  },
  {
   "cell_type": "code",
   "execution_count": 124,
   "id": "f4be2e8a",
   "metadata": {},
   "outputs": [],
   "source": [
    "df1=df1.apply(handling_outlier)"
   ]
  },
  {
   "cell_type": "code",
   "execution_count": 125,
   "id": "76aeebb5",
   "metadata": {},
   "outputs": [
    {
     "data": {
      "text/plain": [
       "<AxesSubplot:>"
      ]
     },
     "execution_count": 125,
     "metadata": {},
     "output_type": "execute_result"
    },
    {
     "data": {
      "image/png": "[encoded data removed]",
      "text/plain": [
       "<Figure size 1440x720 with 1 Axes>"
      ]
     },
     "metadata": {
      "needs_background": "light"
     },
     "output_type": "display_data"
    }
   ],
   "source": [
    "df1.plot(kind='box',figsize=(20,10))"
   ]
  },
  {
   "cell_type": "code",
   "execution_count": 126,
   "id": "f5a50265",
   "metadata": {},
   "outputs": [
    {
     "data": {
      "text/plain": [
       "1500.0"
      ]
     },
     "execution_count": 126,
     "metadata": {},
     "output_type": "execute_result"
    }
   ],
   "source": [
    "df1.Amount_Requested.min()"
   ]
  },
  {
   "cell_type": "code",
   "execution_count": 127,
   "id": "777ac1c2",
   "metadata": {},
   "outputs": [
    {
     "data": {
      "text/plain": [
       "35000.0"
      ]
     },
     "execution_count": 127,
     "metadata": {},
     "output_type": "execute_result"
    }
   ],
   "source": [
    "df1.Amount_Requested.max()"
   ]
  },
  {
   "cell_type": "code",
   "execution_count": 128,
   "id": "4d5fb7a2",
   "metadata": {},
   "outputs": [],
   "source": [
    "df1['Interest_Rate']=df1.Interest_Rate.apply(lambda x: float(str(x).replace('%','')))"
   ]
  },
  {
   "cell_type": "code",
   "execution_count": 129,
   "id": "ba83ce5b",
   "metadata": {},
   "outputs": [],
   "source": [
    "df1['Debt_To_Income_Ratio']=df1.Debt_To_Income_Ratio.apply(lambda x: float(str(x).replace('%','')))"
   ]
  },
  {
   "cell_type": "code",
   "execution_count": 130,
   "id": "3b865041",
   "metadata": {},
   "outputs": [],
   "source": [
    "df1['Loan_Length']=df1.Loan_Length.apply(lambda x: float(str(x).replace(' months','')))"
   ]
  },
  {
   "cell_type": "code",
   "execution_count": 131,
   "id": "3698b9cc",
   "metadata": {},
   "outputs": [],
   "source": [
    "df1['Employment_Length']=df1.Employment_Length.apply(lambda x: float(str(x).replace(' years','').replace(' year','').replace('< ','').replace('+','')))"
   ]
  },
  {
   "cell_type": "code",
   "execution_count": 132,
   "id": "4b93b403",
   "metadata": {},
   "outputs": [],
   "source": [
    "df1['FICO_Avg']=(pd.to_numeric(df1.FICO_Range.str.split('-',expand=True)[0])+pd.to_numeric(df1.FICO_Range.str.split('-',expand=True)[1]))/2"
   ]
  },
  {
   "cell_type": "code",
   "execution_count": 133,
   "id": "840c1596",
   "metadata": {},
   "outputs": [
    {
     "name": "stdout",
     "output_type": "stream",
     "text": [
      "<class 'pandas.core.frame.DataFrame'>\n",
      "RangeIndex: 2500 entries, 0 to 2499\n",
      "Data columns (total 15 columns):\n",
      " #   Column                          Non-Null Count  Dtype  \n",
      "---  ------                          --------------  -----  \n",
      " 0   Amount_Requested                2500 non-null   float64\n",
      " 1   Amount_Funded_By_Investors      2500 non-null   float64\n",
      " 2   Interest_Rate                   2500 non-null   float64\n",
      " 3   Loan_Length                     2500 non-null   float64\n",
      " 4   Loan_Purpose                    2500 non-null   object \n",
      " 5   Debt_To_Income_Ratio            2500 non-null   float64\n",
      " 6   State                           2500 non-null   object \n",
      " 7   Home_Ownership                  2500 non-null   object \n",
      " 8   Monthly_Income                  2500 non-null   float64\n",
      " 9   FICO_Range                      2500 non-null   object \n",
      " 10  Open_CREDIT_Lines               2500 non-null   float64\n",
      " 11  Revolving_CREDIT_Balance        2500 non-null   float64\n",
      " 12  Inquiries_in_the_Last_6_Months  2500 non-null   float64\n",
      " 13  Employment_Length               2500 non-null   float64\n",
      " 14  FICO_Avg                        2500 non-null   float64\n",
      "dtypes: float64(11), object(4)\n",
      "memory usage: 293.1+ KB\n"
     ]
    }
   ],
   "source": [
    "df1.info()"
   ]
  },
  {
   "cell_type": "code",
   "execution_count": 134,
   "id": "ae64f459",
   "metadata": {},
   "outputs": [
    {
     "data": {
      "text/html": [
       "<div>\n",
       "<style scoped>\n",
       "    .dataframe tbody tr th:only-of-type {\n",
       "        vertical-align: middle;\n",
       "    }\n",
       "\n",
       "    .dataframe tbody tr th {\n",
       "        vertical-align: top;\n",
       "    }\n",
       "\n",
       "    .dataframe thead th {\n",
       "        text-align: right;\n",
       "    }\n",
       "</style>\n",
       "<table border=\"1\" class=\"dataframe\">\n",
       "  <thead>\n",
       "    <tr style=\"text-align: right;\">\n",
       "      <th></th>\n",
       "      <th>Amount_Requested</th>\n",
       "      <th>Amount_Funded_By_Investors</th>\n",
       "      <th>Interest_Rate</th>\n",
       "      <th>Loan_Length</th>\n",
       "      <th>Loan_Purpose</th>\n",
       "      <th>Debt_To_Income_Ratio</th>\n",
       "      <th>State</th>\n",
       "      <th>Home_Ownership</th>\n",
       "      <th>Monthly_Income</th>\n",
       "      <th>FICO_Range</th>\n",
       "      <th>Open_CREDIT_Lines</th>\n",
       "      <th>Revolving_CREDIT_Balance</th>\n",
       "      <th>Inquiries_in_the_Last_6_Months</th>\n",
       "      <th>Employment_Length</th>\n",
       "      <th>FICO_Avg</th>\n",
       "    </tr>\n",
       "  </thead>\n",
       "  <tbody>\n",
       "    <tr>\n",
       "      <th>0</th>\n",
       "      <td>20000.0</td>\n",
       "      <td>20000.0</td>\n",
       "      <td>8.90</td>\n",
       "      <td>36.0</td>\n",
       "      <td>debt_consolidation</td>\n",
       "      <td>14.90</td>\n",
       "      <td>SC</td>\n",
       "      <td>MORTGAGE</td>\n",
       "      <td>6541.67</td>\n",
       "      <td>735-739</td>\n",
       "      <td>14.0</td>\n",
       "      <td>14272.0</td>\n",
       "      <td>2.0</td>\n",
       "      <td>1.0</td>\n",
       "      <td>737.0</td>\n",
       "    </tr>\n",
       "    <tr>\n",
       "      <th>1</th>\n",
       "      <td>19200.0</td>\n",
       "      <td>19200.0</td>\n",
       "      <td>12.12</td>\n",
       "      <td>36.0</td>\n",
       "      <td>debt_consolidation</td>\n",
       "      <td>28.36</td>\n",
       "      <td>TX</td>\n",
       "      <td>MORTGAGE</td>\n",
       "      <td>4583.33</td>\n",
       "      <td>715-719</td>\n",
       "      <td>12.0</td>\n",
       "      <td>11140.0</td>\n",
       "      <td>1.0</td>\n",
       "      <td>2.0</td>\n",
       "      <td>717.0</td>\n",
       "    </tr>\n",
       "    <tr>\n",
       "      <th>2</th>\n",
       "      <td>35000.0</td>\n",
       "      <td>35000.0</td>\n",
       "      <td>21.98</td>\n",
       "      <td>60.0</td>\n",
       "      <td>debt_consolidation</td>\n",
       "      <td>23.81</td>\n",
       "      <td>CA</td>\n",
       "      <td>MORTGAGE</td>\n",
       "      <td>11500.00</td>\n",
       "      <td>690-694</td>\n",
       "      <td>14.0</td>\n",
       "      <td>21977.0</td>\n",
       "      <td>1.0</td>\n",
       "      <td>2.0</td>\n",
       "      <td>692.0</td>\n",
       "    </tr>\n",
       "    <tr>\n",
       "      <th>3</th>\n",
       "      <td>10000.0</td>\n",
       "      <td>9975.0</td>\n",
       "      <td>9.99</td>\n",
       "      <td>36.0</td>\n",
       "      <td>debt_consolidation</td>\n",
       "      <td>14.30</td>\n",
       "      <td>KS</td>\n",
       "      <td>MORTGAGE</td>\n",
       "      <td>3833.33</td>\n",
       "      <td>695-699</td>\n",
       "      <td>10.0</td>\n",
       "      <td>9346.0</td>\n",
       "      <td>0.0</td>\n",
       "      <td>5.0</td>\n",
       "      <td>697.0</td>\n",
       "    </tr>\n",
       "    <tr>\n",
       "      <th>4</th>\n",
       "      <td>12000.0</td>\n",
       "      <td>12000.0</td>\n",
       "      <td>11.71</td>\n",
       "      <td>36.0</td>\n",
       "      <td>credit_card</td>\n",
       "      <td>18.78</td>\n",
       "      <td>NJ</td>\n",
       "      <td>RENT</td>\n",
       "      <td>3195.00</td>\n",
       "      <td>695-699</td>\n",
       "      <td>11.0</td>\n",
       "      <td>14469.0</td>\n",
       "      <td>0.0</td>\n",
       "      <td>9.0</td>\n",
       "      <td>697.0</td>\n",
       "    </tr>\n",
       "  </tbody>\n",
       "</table>\n",
       "</div>"
      ],
      "text/plain": [
       "   Amount_Requested  Amount_Funded_By_Investors  Interest_Rate  Loan_Length  \\\n",
       "0           20000.0                     20000.0           8.90         36.0   \n",
       "1           19200.0                     19200.0          12.12         36.0   \n",
       "2           35000.0                     35000.0          21.98         60.0   \n",
       "3           10000.0                      9975.0           9.99         36.0   \n",
       "4           12000.0                     12000.0          11.71         36.0   \n",
       "\n",
       "         Loan_Purpose  Debt_To_Income_Ratio State Home_Ownership  \\\n",
       "0  debt_consolidation                 14.90    SC       MORTGAGE   \n",
       "1  debt_consolidation                 28.36    TX       MORTGAGE   \n",
       "2  debt_consolidation                 23.81    CA       MORTGAGE   \n",
       "3  debt_consolidation                 14.30    KS       MORTGAGE   \n",
       "4         credit_card                 18.78    NJ           RENT   \n",
       "\n",
       "   Monthly_Income FICO_Range  Open_CREDIT_Lines  Revolving_CREDIT_Balance  \\\n",
       "0         6541.67    735-739               14.0                   14272.0   \n",
       "1         4583.33    715-719               12.0                   11140.0   \n",
       "2        11500.00    690-694               14.0                   21977.0   \n",
       "3         3833.33    695-699               10.0                    9346.0   \n",
       "4         3195.00    695-699               11.0                   14469.0   \n",
       "\n",
       "   Inquiries_in_the_Last_6_Months  Employment_Length  FICO_Avg  \n",
       "0                             2.0                1.0     737.0  \n",
       "1                             1.0                2.0     717.0  \n",
       "2                             1.0                2.0     692.0  \n",
       "3                             0.0                5.0     697.0  \n",
       "4                             0.0                9.0     697.0  "
      ]
     },
     "execution_count": 134,
     "metadata": {},
     "output_type": "execute_result"
    }
   ],
   "source": [
    "df1.head()"
   ]
  },
  {
   "cell_type": "code",
   "execution_count": 135,
   "id": "b143bbab",
   "metadata": {},
   "outputs": [],
   "source": [
    "df1=df1.drop(['Amount_Requested','State'],axis=1)"
   ]
  },
  {
   "cell_type": "code",
   "execution_count": 136,
   "id": "2628681f",
   "metadata": {},
   "outputs": [
    {
     "data": {
      "text/html": [
       "<div>\n",
       "<style scoped>\n",
       "    .dataframe tbody tr th:only-of-type {\n",
       "        vertical-align: middle;\n",
       "    }\n",
       "\n",
       "    .dataframe tbody tr th {\n",
       "        vertical-align: top;\n",
       "    }\n",
       "\n",
       "    .dataframe thead th {\n",
       "        text-align: right;\n",
       "    }\n",
       "</style>\n",
       "<table border=\"1\" class=\"dataframe\">\n",
       "  <thead>\n",
       "    <tr style=\"text-align: right;\">\n",
       "      <th></th>\n",
       "      <th>Amount_Funded_By_Investors</th>\n",
       "      <th>Interest_Rate</th>\n",
       "      <th>Loan_Length</th>\n",
       "      <th>Loan_Purpose</th>\n",
       "      <th>Debt_To_Income_Ratio</th>\n",
       "      <th>Home_Ownership</th>\n",
       "      <th>Monthly_Income</th>\n",
       "      <th>FICO_Range</th>\n",
       "      <th>Open_CREDIT_Lines</th>\n",
       "      <th>Revolving_CREDIT_Balance</th>\n",
       "      <th>Inquiries_in_the_Last_6_Months</th>\n",
       "      <th>Employment_Length</th>\n",
       "      <th>FICO_Avg</th>\n",
       "    </tr>\n",
       "  </thead>\n",
       "  <tbody>\n",
       "    <tr>\n",
       "      <th>0</th>\n",
       "      <td>20000.0</td>\n",
       "      <td>8.90</td>\n",
       "      <td>36.0</td>\n",
       "      <td>debt_consolidation</td>\n",
       "      <td>14.90</td>\n",
       "      <td>MORTGAGE</td>\n",
       "      <td>6541.67</td>\n",
       "      <td>735-739</td>\n",
       "      <td>14.0</td>\n",
       "      <td>14272.0</td>\n",
       "      <td>2.0</td>\n",
       "      <td>1.0</td>\n",
       "      <td>737.0</td>\n",
       "    </tr>\n",
       "    <tr>\n",
       "      <th>1</th>\n",
       "      <td>19200.0</td>\n",
       "      <td>12.12</td>\n",
       "      <td>36.0</td>\n",
       "      <td>debt_consolidation</td>\n",
       "      <td>28.36</td>\n",
       "      <td>MORTGAGE</td>\n",
       "      <td>4583.33</td>\n",
       "      <td>715-719</td>\n",
       "      <td>12.0</td>\n",
       "      <td>11140.0</td>\n",
       "      <td>1.0</td>\n",
       "      <td>2.0</td>\n",
       "      <td>717.0</td>\n",
       "    </tr>\n",
       "    <tr>\n",
       "      <th>2</th>\n",
       "      <td>35000.0</td>\n",
       "      <td>21.98</td>\n",
       "      <td>60.0</td>\n",
       "      <td>debt_consolidation</td>\n",
       "      <td>23.81</td>\n",
       "      <td>MORTGAGE</td>\n",
       "      <td>11500.00</td>\n",
       "      <td>690-694</td>\n",
       "      <td>14.0</td>\n",
       "      <td>21977.0</td>\n",
       "      <td>1.0</td>\n",
       "      <td>2.0</td>\n",
       "      <td>692.0</td>\n",
       "    </tr>\n",
       "    <tr>\n",
       "      <th>3</th>\n",
       "      <td>9975.0</td>\n",
       "      <td>9.99</td>\n",
       "      <td>36.0</td>\n",
       "      <td>debt_consolidation</td>\n",
       "      <td>14.30</td>\n",
       "      <td>MORTGAGE</td>\n",
       "      <td>3833.33</td>\n",
       "      <td>695-699</td>\n",
       "      <td>10.0</td>\n",
       "      <td>9346.0</td>\n",
       "      <td>0.0</td>\n",
       "      <td>5.0</td>\n",
       "      <td>697.0</td>\n",
       "    </tr>\n",
       "    <tr>\n",
       "      <th>4</th>\n",
       "      <td>12000.0</td>\n",
       "      <td>11.71</td>\n",
       "      <td>36.0</td>\n",
       "      <td>credit_card</td>\n",
       "      <td>18.78</td>\n",
       "      <td>RENT</td>\n",
       "      <td>3195.00</td>\n",
       "      <td>695-699</td>\n",
       "      <td>11.0</td>\n",
       "      <td>14469.0</td>\n",
       "      <td>0.0</td>\n",
       "      <td>9.0</td>\n",
       "      <td>697.0</td>\n",
       "    </tr>\n",
       "  </tbody>\n",
       "</table>\n",
       "</div>"
      ],
      "text/plain": [
       "   Amount_Funded_By_Investors  Interest_Rate  Loan_Length        Loan_Purpose  \\\n",
       "0                     20000.0           8.90         36.0  debt_consolidation   \n",
       "1                     19200.0          12.12         36.0  debt_consolidation   \n",
       "2                     35000.0          21.98         60.0  debt_consolidation   \n",
       "3                      9975.0           9.99         36.0  debt_consolidation   \n",
       "4                     12000.0          11.71         36.0         credit_card   \n",
       "\n",
       "   Debt_To_Income_Ratio Home_Ownership  Monthly_Income FICO_Range  \\\n",
       "0                 14.90       MORTGAGE         6541.67    735-739   \n",
       "1                 28.36       MORTGAGE         4583.33    715-719   \n",
       "2                 23.81       MORTGAGE        11500.00    690-694   \n",
       "3                 14.30       MORTGAGE         3833.33    695-699   \n",
       "4                 18.78           RENT         3195.00    695-699   \n",
       "\n",
       "   Open_CREDIT_Lines  Revolving_CREDIT_Balance  \\\n",
       "0               14.0                   14272.0   \n",
       "1               12.0                   11140.0   \n",
       "2               14.0                   21977.0   \n",
       "3               10.0                    9346.0   \n",
       "4               11.0                   14469.0   \n",
       "\n",
       "   Inquiries_in_the_Last_6_Months  Employment_Length  FICO_Avg  \n",
       "0                             2.0                1.0     737.0  \n",
       "1                             1.0                2.0     717.0  \n",
       "2                             1.0                2.0     692.0  \n",
       "3                             0.0                5.0     697.0  \n",
       "4                             0.0                9.0     697.0  "
      ]
     },
     "execution_count": 136,
     "metadata": {},
     "output_type": "execute_result"
    }
   ],
   "source": [
    "df1.head()"
   ]
  },
  {
   "cell_type": "markdown",
   "id": "0d9cb968",
   "metadata": {},
   "source": [
    "df2=pd.get_dummies(df1, columns=['Loan_Purpose','Home_Ownership'],drop_first=True)"
   ]
  },
  {
   "cell_type": "code",
   "execution_count": 137,
   "id": "3f367323",
   "metadata": {},
   "outputs": [
    {
     "data": {
      "text/html": [
       "<div>\n",
       "<style scoped>\n",
       "    .dataframe tbody tr th:only-of-type {\n",
       "        vertical-align: middle;\n",
       "    }\n",
       "\n",
       "    .dataframe tbody tr th {\n",
       "        vertical-align: top;\n",
       "    }\n",
       "\n",
       "    .dataframe thead th {\n",
       "        text-align: right;\n",
       "    }\n",
       "</style>\n",
       "<table border=\"1\" class=\"dataframe\">\n",
       "  <thead>\n",
       "    <tr style=\"text-align: right;\">\n",
       "      <th></th>\n",
       "      <th>Amount_Funded_By_Investors</th>\n",
       "      <th>Interest_Rate</th>\n",
       "      <th>Loan_Length</th>\n",
       "      <th>Loan_Purpose</th>\n",
       "      <th>Debt_To_Income_Ratio</th>\n",
       "      <th>Home_Ownership</th>\n",
       "      <th>Monthly_Income</th>\n",
       "      <th>FICO_Range</th>\n",
       "      <th>Open_CREDIT_Lines</th>\n",
       "      <th>Revolving_CREDIT_Balance</th>\n",
       "      <th>Inquiries_in_the_Last_6_Months</th>\n",
       "      <th>Employment_Length</th>\n",
       "      <th>FICO_Avg</th>\n",
       "    </tr>\n",
       "  </thead>\n",
       "  <tbody>\n",
       "    <tr>\n",
       "      <th>0</th>\n",
       "      <td>20000.0</td>\n",
       "      <td>8.90</td>\n",
       "      <td>36.0</td>\n",
       "      <td>debt_consolidation</td>\n",
       "      <td>14.90</td>\n",
       "      <td>MORTGAGE</td>\n",
       "      <td>6541.67</td>\n",
       "      <td>735-739</td>\n",
       "      <td>14.0</td>\n",
       "      <td>14272.0</td>\n",
       "      <td>2.0</td>\n",
       "      <td>1.0</td>\n",
       "      <td>737.0</td>\n",
       "    </tr>\n",
       "    <tr>\n",
       "      <th>1</th>\n",
       "      <td>19200.0</td>\n",
       "      <td>12.12</td>\n",
       "      <td>36.0</td>\n",
       "      <td>debt_consolidation</td>\n",
       "      <td>28.36</td>\n",
       "      <td>MORTGAGE</td>\n",
       "      <td>4583.33</td>\n",
       "      <td>715-719</td>\n",
       "      <td>12.0</td>\n",
       "      <td>11140.0</td>\n",
       "      <td>1.0</td>\n",
       "      <td>2.0</td>\n",
       "      <td>717.0</td>\n",
       "    </tr>\n",
       "    <tr>\n",
       "      <th>2</th>\n",
       "      <td>35000.0</td>\n",
       "      <td>21.98</td>\n",
       "      <td>60.0</td>\n",
       "      <td>debt_consolidation</td>\n",
       "      <td>23.81</td>\n",
       "      <td>MORTGAGE</td>\n",
       "      <td>11500.00</td>\n",
       "      <td>690-694</td>\n",
       "      <td>14.0</td>\n",
       "      <td>21977.0</td>\n",
       "      <td>1.0</td>\n",
       "      <td>2.0</td>\n",
       "      <td>692.0</td>\n",
       "    </tr>\n",
       "    <tr>\n",
       "      <th>3</th>\n",
       "      <td>9975.0</td>\n",
       "      <td>9.99</td>\n",
       "      <td>36.0</td>\n",
       "      <td>debt_consolidation</td>\n",
       "      <td>14.30</td>\n",
       "      <td>MORTGAGE</td>\n",
       "      <td>3833.33</td>\n",
       "      <td>695-699</td>\n",
       "      <td>10.0</td>\n",
       "      <td>9346.0</td>\n",
       "      <td>0.0</td>\n",
       "      <td>5.0</td>\n",
       "      <td>697.0</td>\n",
       "    </tr>\n",
       "    <tr>\n",
       "      <th>4</th>\n",
       "      <td>12000.0</td>\n",
       "      <td>11.71</td>\n",
       "      <td>36.0</td>\n",
       "      <td>credit_card</td>\n",
       "      <td>18.78</td>\n",
       "      <td>RENT</td>\n",
       "      <td>3195.00</td>\n",
       "      <td>695-699</td>\n",
       "      <td>11.0</td>\n",
       "      <td>14469.0</td>\n",
       "      <td>0.0</td>\n",
       "      <td>9.0</td>\n",
       "      <td>697.0</td>\n",
       "    </tr>\n",
       "  </tbody>\n",
       "</table>\n",
       "</div>"
      ],
      "text/plain": [
       "   Amount_Funded_By_Investors  Interest_Rate  Loan_Length        Loan_Purpose  \\\n",
       "0                     20000.0           8.90         36.0  debt_consolidation   \n",
       "1                     19200.0          12.12         36.0  debt_consolidation   \n",
       "2                     35000.0          21.98         60.0  debt_consolidation   \n",
       "3                      9975.0           9.99         36.0  debt_consolidation   \n",
       "4                     12000.0          11.71         36.0         credit_card   \n",
       "\n",
       "   Debt_To_Income_Ratio Home_Ownership  Monthly_Income FICO_Range  \\\n",
       "0                 14.90       MORTGAGE         6541.67    735-739   \n",
       "1                 28.36       MORTGAGE         4583.33    715-719   \n",
       "2                 23.81       MORTGAGE        11500.00    690-694   \n",
       "3                 14.30       MORTGAGE         3833.33    695-699   \n",
       "4                 18.78           RENT         3195.00    695-699   \n",
       "\n",
       "   Open_CREDIT_Lines  Revolving_CREDIT_Balance  \\\n",
       "0               14.0                   14272.0   \n",
       "1               12.0                   11140.0   \n",
       "2               14.0                   21977.0   \n",
       "3               10.0                    9346.0   \n",
       "4               11.0                   14469.0   \n",
       "\n",
       "   Inquiries_in_the_Last_6_Months  Employment_Length  FICO_Avg  \n",
       "0                             2.0                1.0     737.0  \n",
       "1                             1.0                2.0     717.0  \n",
       "2                             1.0                2.0     692.0  \n",
       "3                             0.0                5.0     697.0  \n",
       "4                             0.0                9.0     697.0  "
      ]
     },
     "execution_count": 137,
     "metadata": {},
     "output_type": "execute_result"
    }
   ],
   "source": [
    "df2=df1\n",
    "df2.head()"
   ]
  },
  {
   "cell_type": "markdown",
   "id": "6965f2f8",
   "metadata": {},
   "source": [
    "<h3>BUSINESS PROBLEM-1A: </h3> <br>Intrest rate is varied for different loan amounts (Less intrest charged for high loan\n",
    "amounts)"
   ]
  },
  {
   "cell_type": "code",
   "execution_count": 138,
   "id": "86e81ac1",
   "metadata": {},
   "outputs": [
    {
     "name": "stderr",
     "output_type": "stream",
     "text": [
      "C:\\Users\\VVLG\\anaconda3\\lib\\site-packages\\seaborn\\distributions.py:2557: FutureWarning: `distplot` is a deprecated function and will be removed in a future version. Please adapt your code to use either `displot` (a figure-level function with similar flexibility) or `histplot` (an axes-level function for histograms).\n",
      "  warnings.warn(msg, FutureWarning)\n"
     ]
    },
    {
     "data": {
      "text/plain": [
       "<AxesSubplot:xlabel='Interest_Rate', ylabel='Density'>"
      ]
     },
     "execution_count": 138,
     "metadata": {},
     "output_type": "execute_result"
    },
    {
     "data": {
      "image/png": "[encoded data removed]",
      "text/plain": [
       "<Figure size 432x288 with 1 Axes>"
      ]
     },
     "metadata": {
      "needs_background": "light"
     },
     "output_type": "display_data"
    }
   ],
   "source": [
    "sns.distplot(df2.Interest_Rate)"
   ]
  },
  {
   "cell_type": "code",
   "execution_count": 139,
   "id": "2c5a7228",
   "metadata": {},
   "outputs": [
    {
     "name": "stderr",
     "output_type": "stream",
     "text": [
      "C:\\Users\\VVLG\\anaconda3\\lib\\site-packages\\seaborn\\distributions.py:2557: FutureWarning: `distplot` is a deprecated function and will be removed in a future version. Please adapt your code to use either `displot` (a figure-level function with similar flexibility) or `histplot` (an axes-level function for histograms).\n",
      "  warnings.warn(msg, FutureWarning)\n"
     ]
    },
    {
     "data": {
      "text/plain": [
       "<AxesSubplot:xlabel='Amount_Funded_By_Investors', ylabel='Density'>"
      ]
     },
     "execution_count": 139,
     "metadata": {},
     "output_type": "execute_result"
    },
    {
     "data": {
      "image/png": "[encoded data removed]",
      "text/plain": [
       "<Figure size 432x288 with 1 Axes>"
      ]
     },
     "metadata": {
      "needs_background": "light"
     },
     "output_type": "display_data"
    }
   ],
   "source": [
    "sns.distplot(df2.Amount_Funded_By_Investors)"
   ]
  },
  {
   "cell_type": "code",
   "execution_count": 140,
   "id": "b20e2a24",
   "metadata": {},
   "outputs": [
    {
     "data": {
      "text/plain": [
       "0.33744350858158223"
      ]
     },
     "execution_count": 140,
     "metadata": {},
     "output_type": "execute_result"
    }
   ],
   "source": [
    "df2.Amount_Funded_By_Investors.corr(df2.Interest_Rate)"
   ]
  },
  {
   "cell_type": "code",
   "execution_count": 141,
   "id": "42582512",
   "metadata": {},
   "outputs": [
    {
     "data": {
      "image/png": "[encoded data removed]",
      "text/plain": [
       "<Figure size 360x360 with 1 Axes>"
      ]
     },
     "metadata": {
      "needs_background": "light"
     },
     "output_type": "display_data"
    }
   ],
   "source": [
    "sns.lmplot(x = 'Amount_Funded_By_Investors',y = \"Interest_Rate\",data=df2)\n",
    "plt.show()"
   ]
  },
  {
   "cell_type": "markdown",
   "id": "958c8495",
   "metadata": {},
   "source": [
    "<center> <i> Since coefficient of correlation between Amount Funded By Investors and Interest Rate is positive and pvalue is very low, we can't reject null hypothesis and conclude that interest rate is positively correlated to Loan amount"
   ]
  },
  {
   "cell_type": "markdown",
   "id": "635aa5d5",
   "metadata": {},
   "source": [
    "<h3>BUSINESS PROBLEM-1B: </h3> <br>Loan length is directly effecting intrest rate."
   ]
  },
  {
   "cell_type": "markdown",
   "id": "6126629f",
   "metadata": {},
   "source": [
    "<center>H0: Loan Length is directly effecting interest rate <br>\n",
    "H1: Loan Length is not effecting interest rate"
   ]
  },
  {
   "cell_type": "code",
   "execution_count": 142,
   "id": "bab3a0fc",
   "metadata": {},
   "outputs": [
    {
     "data": {
      "text/plain": [
       "0.42425921833327274"
      ]
     },
     "execution_count": 142,
     "metadata": {},
     "output_type": "execute_result"
    }
   ],
   "source": [
    "df2.Interest_Rate.corr(df2.Loan_Length)"
   ]
  },
  {
   "cell_type": "code",
   "execution_count": 143,
   "id": "27948404",
   "metadata": {},
   "outputs": [
    {
     "name": "stderr",
     "output_type": "stream",
     "text": [
      "C:\\Users\\VVLG\\anaconda3\\lib\\site-packages\\seaborn\\_decorators.py:36: FutureWarning: Pass the following variables as keyword args: x, y. From version 0.12, the only valid positional argument will be `data`, and passing other arguments without an explicit keyword will result in an error or misinterpretation.\n",
      "  warnings.warn(\n"
     ]
    },
    {
     "data": {
      "image/png": "[encoded data removed]",
      "text/plain": [
       "<Figure size 360x360 with 1 Axes>"
      ]
     },
     "metadata": {
      "needs_background": "light"
     },
     "output_type": "display_data"
    }
   ],
   "source": [
    "sns.lmplot('Loan_Length','Interest_Rate',data=df2)\n",
    "plt.show()"
   ]
  },
  {
   "cell_type": "markdown",
   "id": "33b54525",
   "metadata": {},
   "source": [
    "<center> The relationship between Loan Length and Interest Rate is positive, hence H0 can be accepted. <br>\n",
    "    <i>Therefore, Loan Length has a direct effect to the Interest Rate"
   ]
  },
  {
   "cell_type": "markdown",
   "id": "bd236621",
   "metadata": {},
   "source": [
    "<h3>BUSINESS PROBLEM-1C: </h3> <br>Interest rate varies for different purpose of loans"
   ]
  },
  {
   "cell_type": "markdown",
   "id": "8e3e3445",
   "metadata": {},
   "source": [
    "<center>H0: Interest rate has no variation for different Loan Purpose <br>\n",
    "H1: Interest rate has variation for different Loan Purpose"
   ]
  },
  {
   "cell_type": "code",
   "execution_count": 144,
   "id": "0f988d86",
   "metadata": {},
   "outputs": [
    {
     "data": {
      "text/plain": [
       "Index(['Amount_Funded_By_Investors', 'Interest_Rate', 'Loan_Length',\n",
       "       'Loan_Purpose', 'Debt_To_Income_Ratio', 'Home_Ownership',\n",
       "       'Monthly_Income', 'FICO_Range', 'Open_CREDIT_Lines',\n",
       "       'Revolving_CREDIT_Balance', 'Inquiries_in_the_Last_6_Months',\n",
       "       'Employment_Length', 'FICO_Avg'],\n",
       "      dtype='object')"
      ]
     },
     "execution_count": 144,
     "metadata": {},
     "output_type": "execute_result"
    }
   ],
   "source": [
    "df2.columns"
   ]
  },
  {
   "cell_type": "code",
   "execution_count": 145,
   "id": "75daf4d8",
   "metadata": {},
   "outputs": [
    {
     "data": {
      "text/plain": [
       "array(['debt_consolidation', 'credit_card', 'other', 'moving', 'car',\n",
       "       'vacation', 'home_improvement', 'house', 'major_purchase',\n",
       "       'educational', 'medical', 'wedding', 'small_business',\n",
       "       'renewable_energy'], dtype=object)"
      ]
     },
     "execution_count": 145,
     "metadata": {},
     "output_type": "execute_result"
    }
   ],
   "source": [
    "df2.Loan_Purpose.unique()"
   ]
  },
  {
   "cell_type": "code",
   "execution_count": 146,
   "id": "b693cad6",
   "metadata": {},
   "outputs": [],
   "source": [
    "debt_consolidation=df2['Interest_Rate'][df2[\"Loan_Purpose\"]=='debt_consolidation']\n",
    "credit_card=df2['Interest_Rate'][df2[\"Loan_Purpose\"]=='credit_card']\n",
    "other=df2['Interest_Rate'][df2[\"Loan_Purpose\"]=='other']\n",
    "moving=df2['Interest_Rate'][df2[\"Loan_Purpose\"]=='moving']\n",
    "car=df2['Interest_Rate'][df2[\"Loan_Purpose\"]=='car']\n",
    "vacation=df2['Interest_Rate'][df2[\"Loan_Purpose\"]=='vacation']\n",
    "home_improvement=df2['Interest_Rate'][df2[\"Loan_Purpose\"]=='home_improvement']\n",
    "house=df2['Interest_Rate'][df2[\"Loan_Purpose\"]=='house']\n",
    "major_purchase=df2['Interest_Rate'][df2[\"Loan_Purpose\"]=='major_purchase']\n",
    "educational=df2['Interest_Rate'][df2[\"Loan_Purpose\"]=='educational']\n",
    "medical=df2['Interest_Rate'][df2[\"Loan_Purpose\"]=='medical']\n",
    "wedding=df2['Interest_Rate'][df2[\"Loan_Purpose\"]=='wedding']\n",
    "small_business=df2['Interest_Rate'][df2[\"Loan_Purpose\"]=='small_business']\n",
    "renewable_energy=df2['Interest_Rate'][df2[\"Loan_Purpose\"]=='renewable_energy']"
   ]
  },
  {
   "cell_type": "code",
   "execution_count": 147,
   "id": "cb6f805b",
   "metadata": {},
   "outputs": [
    {
     "data": {
      "text/plain": [
       "F_onewayResult(statistic=7.491453851847694, pvalue=1.1044428447897775e-14)"
      ]
     },
     "execution_count": 147,
     "metadata": {},
     "output_type": "execute_result"
    }
   ],
   "source": [
    "stats.f_oneway(debt_consolidation,credit_card,other,moving,car,vacation,home_improvement,house,major_purchase,educational,medical,wedding,small_business,renewable_energy)"
   ]
  },
  {
   "cell_type": "markdown",
   "id": "0d27c1ba",
   "metadata": {},
   "source": [
    "<center>pvalue of 1.10e-14 is lesser than 0.05, hence we reject Null Hypothesis. <br>\n",
    "    <i>Therefore, Interest Rate vary for diferrent loan lenght"
   ]
  },
  {
   "cell_type": "markdown",
   "id": "a3a319d0",
   "metadata": {},
   "source": [
    "<h3>BUSINESS PROBLEM-1D: </h3> <br>Relationship between FICO scores and Home Ownership"
   ]
  },
  {
   "cell_type": "markdown",
   "id": "3e8d3bb2",
   "metadata": {},
   "source": [
    "<center>H0: There is no Relationship between FICO scores and Home Ownership <br>\n",
    "H1: There is a Relationship between FICO scores and Home Ownership"
   ]
  },
  {
   "cell_type": "code",
   "execution_count": 148,
   "id": "eda64c1c",
   "metadata": {},
   "outputs": [],
   "source": [
    "FICO_HO_CrossTab=pd.crosstab(df2.FICO_Range,df2.Home_Ownership,margins=True)"
   ]
  },
  {
   "cell_type": "code",
   "execution_count": 149,
   "id": "697a0105",
   "metadata": {},
   "outputs": [],
   "source": [
    "Chi_Squ_FICO_HO=stats.chi2_contingency(FICO_HO_CrossTab)"
   ]
  },
  {
   "cell_type": "code",
   "execution_count": 150,
   "id": "c487aab1",
   "metadata": {},
   "outputs": [
    {
     "data": {
      "text/plain": [
       "(473.5648028168521,\n",
       " 3.4427118118036043e-26,\n",
       " 190,\n",
       " array([[2.29600e+00, 2.00000e-03, 1.00000e-02, 4.00000e-01, 2.29200e+00,\n",
       "         5.00000e+00],\n",
       "        [1.37760e+00, 1.20000e-03, 6.00000e-03, 2.40000e-01, 1.37520e+00,\n",
       "         3.00000e+00],\n",
       "        [4.59200e-01, 4.00000e-04, 2.00000e-03, 8.00000e-02, 4.58400e-01,\n",
       "         1.00000e+00],\n",
       "        [1.83680e+00, 1.60000e-03, 8.00000e-03, 3.20000e-01, 1.83360e+00,\n",
       "         4.00000e+00],\n",
       "        [5.74000e+01, 5.00000e-02, 2.50000e-01, 1.00000e+01, 5.73000e+01,\n",
       "         1.25000e+02],\n",
       "        [6.65840e+01, 5.80000e-02, 2.90000e-01, 1.16000e+01, 6.64680e+01,\n",
       "         1.45000e+02],\n",
       "        [7.94416e+01, 6.92000e-02, 3.46000e-01, 1.38400e+01, 7.93032e+01,\n",
       "         1.73000e+02],\n",
       "        [7.62272e+01, 6.64000e-02, 3.32000e-01, 1.32800e+01, 7.60944e+01,\n",
       "         1.66000e+02],\n",
       "        [7.20944e+01, 6.28000e-02, 3.14000e-01, 1.25600e+01, 7.19688e+01,\n",
       "         1.57000e+02],\n",
       "        [6.24512e+01, 5.44000e-02, 2.72000e-01, 1.08800e+01, 6.23424e+01,\n",
       "         1.36000e+02],\n",
       "        [6.42880e+01, 5.60000e-02, 2.80000e-01, 1.12000e+01, 6.41760e+01,\n",
       "         1.40000e+02],\n",
       "        [7.02576e+01, 6.12000e-02, 3.06000e-01, 1.22400e+01, 7.01352e+01,\n",
       "         1.53000e+02],\n",
       "        [6.01552e+01, 5.24000e-02, 2.62000e-01, 1.04800e+01, 6.00504e+01,\n",
       "         1.31000e+02],\n",
       "        [6.15328e+01, 5.36000e-02, 2.68000e-01, 1.07200e+01, 6.14256e+01,\n",
       "         1.34000e+02],\n",
       "        [5.14304e+01, 4.48000e-02, 2.24000e-01, 8.96000e+00, 5.13408e+01,\n",
       "         1.12000e+02],\n",
       "        [4.27056e+01, 3.72000e-02, 1.86000e-01, 7.44000e+00, 4.26312e+01,\n",
       "         9.30000e+01],\n",
       "        [5.23488e+01, 4.56000e-02, 2.28000e-01, 9.12000e+00, 5.22576e+01,\n",
       "         1.14000e+02],\n",
       "        [4.31648e+01, 3.76000e-02, 1.88000e-01, 7.52000e+00, 4.30896e+01,\n",
       "         9.40000e+01],\n",
       "        [4.31648e+01, 3.76000e-02, 1.88000e-01, 7.52000e+00, 4.30896e+01,\n",
       "         9.40000e+01],\n",
       "        [2.98480e+01, 2.60000e-02, 1.30000e-01, 5.20000e+00, 2.97960e+01,\n",
       "         6.50000e+01],\n",
       "        [2.43376e+01, 2.12000e-02, 1.06000e-01, 4.24000e+00, 2.42952e+01,\n",
       "         5.30000e+01],\n",
       "        [2.47968e+01, 2.16000e-02, 1.08000e-01, 4.32000e+00, 2.47536e+01,\n",
       "         5.40000e+01],\n",
       "        [2.80112e+01, 2.44000e-02, 1.22000e-01, 4.88000e+00, 2.79624e+01,\n",
       "         6.10000e+01],\n",
       "        [2.11232e+01, 1.84000e-02, 9.20000e-02, 3.68000e+00, 2.10864e+01,\n",
       "         4.60000e+01],\n",
       "        [2.11232e+01, 1.84000e-02, 9.20000e-02, 3.68000e+00, 2.10864e+01,\n",
       "         4.60000e+01],\n",
       "        [1.65312e+01, 1.44000e-02, 7.20000e-02, 2.88000e+00, 1.65024e+01,\n",
       "         3.60000e+01],\n",
       "        [7.80640e+00, 6.80000e-03, 3.40000e-02, 1.36000e+00, 7.79280e+00,\n",
       "         1.70000e+01],\n",
       "        [1.01024e+01, 8.80000e-03, 4.40000e-02, 1.76000e+00, 1.00848e+01,\n",
       "         2.20000e+01],\n",
       "        [1.28576e+01, 1.12000e-02, 5.60000e-02, 2.24000e+00, 1.28352e+01,\n",
       "         2.80000e+01],\n",
       "        [8.72480e+00, 7.60000e-03, 3.80000e-02, 1.52000e+00, 8.70960e+00,\n",
       "         1.90000e+01],\n",
       "        [9.18400e+00, 8.00000e-03, 4.00000e-02, 1.60000e+00, 9.16800e+00,\n",
       "         2.00000e+01],\n",
       "        [5.96960e+00, 5.20000e-03, 2.60000e-02, 1.04000e+00, 5.95920e+00,\n",
       "         1.30000e+01],\n",
       "        [5.96960e+00, 5.20000e-03, 2.60000e-02, 1.04000e+00, 5.95920e+00,\n",
       "         1.30000e+01],\n",
       "        [5.05120e+00, 4.40000e-03, 2.20000e-02, 8.80000e-01, 5.04240e+00,\n",
       "         1.10000e+01],\n",
       "        [3.67360e+00, 3.20000e-03, 1.60000e-02, 6.40000e-01, 3.66720e+00,\n",
       "         8.00000e+00],\n",
       "        [2.75520e+00, 2.40000e-03, 1.20000e-02, 4.80000e-01, 2.75040e+00,\n",
       "         6.00000e+00],\n",
       "        [4.59200e-01, 4.00000e-04, 2.00000e-03, 8.00000e-02, 4.58400e-01,\n",
       "         1.00000e+00],\n",
       "        [4.59200e-01, 4.00000e-04, 2.00000e-03, 8.00000e-02, 4.58400e-01,\n",
       "         1.00000e+00],\n",
       "        [1.14800e+03, 1.00000e+00, 5.00000e+00, 2.00000e+02, 1.14600e+03,\n",
       "         2.50000e+03]]))"
      ]
     },
     "execution_count": 150,
     "metadata": {},
     "output_type": "execute_result"
    }
   ],
   "source": [
    "Chi_Squ_FICO_HO"
   ]
  },
  {
   "cell_type": "markdown",
   "id": "a5ae9d55",
   "metadata": {},
   "source": [
    "<center>pvalue of 3.442e-26 is lesser than 0.05, hence we reject Null Hypothesis. <br>\n",
    "    <i>Therefore, there is a Relationship between FICO scores and Home Ownership"
   ]
  },
  {
   "cell_type": "markdown",
   "id": "14963e16",
   "metadata": {},
   "source": [
    "<h1><center>Business Problem 2 - Price Quotes"
   ]
  },
  {
   "cell_type": "markdown",
   "id": "a18a85c8",
   "metadata": {},
   "source": [
    "<b>To assess if there is any difference in the average price quotes provided by Mary and Barry."
   ]
  },
  {
   "cell_type": "code",
   "execution_count": 151,
   "id": "56e87110",
   "metadata": {},
   "outputs": [
    {
     "data": {
      "text/html": [
       "<div>\n",
       "<style scoped>\n",
       "    .dataframe tbody tr th:only-of-type {\n",
       "        vertical-align: middle;\n",
       "    }\n",
       "\n",
       "    .dataframe tbody tr th {\n",
       "        vertical-align: top;\n",
       "    }\n",
       "\n",
       "    .dataframe thead th {\n",
       "        text-align: right;\n",
       "    }\n",
       "</style>\n",
       "<table border=\"1\" class=\"dataframe\">\n",
       "  <thead>\n",
       "    <tr style=\"text-align: right;\">\n",
       "      <th></th>\n",
       "      <th>Order_Number</th>\n",
       "      <th>Barry_Price</th>\n",
       "      <th>Mary_Price</th>\n",
       "    </tr>\n",
       "  </thead>\n",
       "  <tbody>\n",
       "    <tr>\n",
       "      <th>0</th>\n",
       "      <td>1</td>\n",
       "      <td>126</td>\n",
       "      <td>114</td>\n",
       "    </tr>\n",
       "    <tr>\n",
       "      <th>1</th>\n",
       "      <td>2</td>\n",
       "      <td>110</td>\n",
       "      <td>118</td>\n",
       "    </tr>\n",
       "    <tr>\n",
       "      <th>2</th>\n",
       "      <td>3</td>\n",
       "      <td>138</td>\n",
       "      <td>114</td>\n",
       "    </tr>\n",
       "    <tr>\n",
       "      <th>3</th>\n",
       "      <td>4</td>\n",
       "      <td>142</td>\n",
       "      <td>111</td>\n",
       "    </tr>\n",
       "    <tr>\n",
       "      <th>4</th>\n",
       "      <td>5</td>\n",
       "      <td>146</td>\n",
       "      <td>129</td>\n",
       "    </tr>\n",
       "    <tr>\n",
       "      <th>5</th>\n",
       "      <td>6</td>\n",
       "      <td>136</td>\n",
       "      <td>119</td>\n",
       "    </tr>\n",
       "    <tr>\n",
       "      <th>6</th>\n",
       "      <td>7</td>\n",
       "      <td>94</td>\n",
       "      <td>97</td>\n",
       "    </tr>\n",
       "    <tr>\n",
       "      <th>7</th>\n",
       "      <td>8</td>\n",
       "      <td>103</td>\n",
       "      <td>104</td>\n",
       "    </tr>\n",
       "    <tr>\n",
       "      <th>8</th>\n",
       "      <td>9</td>\n",
       "      <td>140</td>\n",
       "      <td>127</td>\n",
       "    </tr>\n",
       "    <tr>\n",
       "      <th>9</th>\n",
       "      <td>10</td>\n",
       "      <td>152</td>\n",
       "      <td>133</td>\n",
       "    </tr>\n",
       "    <tr>\n",
       "      <th>10</th>\n",
       "      <td>11</td>\n",
       "      <td>108</td>\n",
       "      <td>103</td>\n",
       "    </tr>\n",
       "    <tr>\n",
       "      <th>11</th>\n",
       "      <td>12</td>\n",
       "      <td>97</td>\n",
       "      <td>108</td>\n",
       "    </tr>\n",
       "  </tbody>\n",
       "</table>\n",
       "</div>"
      ],
      "text/plain": [
       "    Order_Number  Barry_Price  Mary_Price\n",
       "0              1          126         114\n",
       "1              2          110         118\n",
       "2              3          138         114\n",
       "3              4          142         111\n",
       "4              5          146         129\n",
       "5              6          136         119\n",
       "6              7           94          97\n",
       "7              8          103         104\n",
       "8              9          140         127\n",
       "9             10          152         133\n",
       "10            11          108         103\n",
       "11            12           97         108"
      ]
     },
     "execution_count": 151,
     "metadata": {},
     "output_type": "execute_result"
    }
   ],
   "source": [
    "df3=pd.read_csv('Price_Quotes.csv')\n",
    "df3"
   ]
  },
  {
   "cell_type": "code",
   "execution_count": 152,
   "id": "9c97b01e",
   "metadata": {},
   "outputs": [
    {
     "name": "stderr",
     "output_type": "stream",
     "text": [
      "C:\\Users\\VVLG\\anaconda3\\lib\\site-packages\\seaborn\\distributions.py:2557: FutureWarning: `distplot` is a deprecated function and will be removed in a future version. Please adapt your code to use either `displot` (a figure-level function with similar flexibility) or `histplot` (an axes-level function for histograms).\n",
      "  warnings.warn(msg, FutureWarning)\n",
      "C:\\Users\\VVLG\\anaconda3\\lib\\site-packages\\seaborn\\distributions.py:2557: FutureWarning: `distplot` is a deprecated function and will be removed in a future version. Please adapt your code to use either `displot` (a figure-level function with similar flexibility) or `histplot` (an axes-level function for histograms).\n",
      "  warnings.warn(msg, FutureWarning)\n"
     ]
    },
    {
     "data": {
      "image/png": "[encoded data removed]",
      "text/plain": [
       "<Figure size 432x288 with 1 Axes>"
      ]
     },
     "metadata": {
      "needs_background": "light"
     },
     "output_type": "display_data"
    }
   ],
   "source": [
    "sns.distplot(df3.Barry_Price)\n",
    "sns.distplot(df3.Mary_Price)\n",
    "plt.xlabel(\"Barry and Mary Price\")\n",
    "plt.show()"
   ]
  },
  {
   "cell_type": "markdown",
   "id": "3f12e75c",
   "metadata": {},
   "source": [
    "<center>H0: There is no difference between Barry's and Mary's average price quotes. <br>\n",
    "H1: There is difference between Barry's and Mary's average price quotes."
   ]
  },
  {
   "cell_type": "code",
   "execution_count": 153,
   "id": "7966fe9b",
   "metadata": {},
   "outputs": [
    {
     "data": {
      "text/plain": [
       "Ttest_relResult(statistic=2.521376510892349, pvalue=0.02840588045242053)"
      ]
     },
     "execution_count": 153,
     "metadata": {},
     "output_type": "execute_result"
    }
   ],
   "source": [
    "stats.ttest_rel(df3.Barry_Price,df3.Mary_Price)"
   ]
  },
  {
   "cell_type": "markdown",
   "id": "3109eab9",
   "metadata": {},
   "source": [
    "<center>pvalue of 0.028 is lesser than 0.05, hence we reject Null Hypothesis. <br>\n",
    "    <i>Therefore, there is difference between Barry's and Mary's average price quotes."
   ]
  },
  {
   "cell_type": "markdown",
   "id": "fd079515",
   "metadata": {},
   "source": [
    "<H1><center> Business Problem 3: The New Life Residential Treatment Facility "
   ]
  },
  {
   "cell_type": "code",
   "execution_count": 154,
   "id": "d0c2f0ee",
   "metadata": {},
   "outputs": [
    {
     "data": {
      "text/html": [
       "<div>\n",
       "<style scoped>\n",
       "    .dataframe tbody tr th:only-of-type {\n",
       "        vertical-align: middle;\n",
       "    }\n",
       "\n",
       "    .dataframe tbody tr th {\n",
       "        vertical-align: top;\n",
       "    }\n",
       "\n",
       "    .dataframe thead th {\n",
       "        text-align: right;\n",
       "    }\n",
       "</style>\n",
       "<table border=\"1\" class=\"dataframe\">\n",
       "  <thead>\n",
       "    <tr style=\"text-align: right;\">\n",
       "      <th></th>\n",
       "      <th>Month</th>\n",
       "      <th>Reengineer</th>\n",
       "      <th>Employee_Turnover</th>\n",
       "      <th>TRFF</th>\n",
       "      <th>CI</th>\n",
       "    </tr>\n",
       "  </thead>\n",
       "  <tbody>\n",
       "    <tr>\n",
       "      <th>0</th>\n",
       "      <td>1</td>\n",
       "      <td>Prior</td>\n",
       "      <td>0.0000</td>\n",
       "      <td>24.390244</td>\n",
       "      <td>42.682927</td>\n",
       "    </tr>\n",
       "    <tr>\n",
       "      <th>1</th>\n",
       "      <td>2</td>\n",
       "      <td>Prior</td>\n",
       "      <td>6.0606</td>\n",
       "      <td>19.354839</td>\n",
       "      <td>25.806452</td>\n",
       "    </tr>\n",
       "    <tr>\n",
       "      <th>2</th>\n",
       "      <td>3</td>\n",
       "      <td>Prior</td>\n",
       "      <td>12.1212</td>\n",
       "      <td>35.087719</td>\n",
       "      <td>146.198830</td>\n",
       "    </tr>\n",
       "    <tr>\n",
       "      <th>3</th>\n",
       "      <td>4</td>\n",
       "      <td>Prior</td>\n",
       "      <td>3.3333</td>\n",
       "      <td>18.404908</td>\n",
       "      <td>110.429448</td>\n",
       "    </tr>\n",
       "    <tr>\n",
       "      <th>4</th>\n",
       "      <td>5</td>\n",
       "      <td>Prior</td>\n",
       "      <td>12.9032</td>\n",
       "      <td>17.964072</td>\n",
       "      <td>23.952096</td>\n",
       "    </tr>\n",
       "    <tr>\n",
       "      <th>5</th>\n",
       "      <td>6</td>\n",
       "      <td>Prior</td>\n",
       "      <td>9.6774</td>\n",
       "      <td>41.176471</td>\n",
       "      <td>47.058824</td>\n",
       "    </tr>\n",
       "    <tr>\n",
       "      <th>6</th>\n",
       "      <td>7</td>\n",
       "      <td>Prior</td>\n",
       "      <td>11.7647</td>\n",
       "      <td>13.422819</td>\n",
       "      <td>0.000000</td>\n",
       "    </tr>\n",
       "    <tr>\n",
       "      <th>7</th>\n",
       "      <td>8</td>\n",
       "      <td>Prior</td>\n",
       "      <td>11.4286</td>\n",
       "      <td>31.250000</td>\n",
       "      <td>25.000000</td>\n",
       "    </tr>\n",
       "    <tr>\n",
       "      <th>8</th>\n",
       "      <td>9</td>\n",
       "      <td>Prior</td>\n",
       "      <td>23.0769</td>\n",
       "      <td>17.241379</td>\n",
       "      <td>132.183908</td>\n",
       "    </tr>\n",
       "    <tr>\n",
       "      <th>9</th>\n",
       "      <td>10</td>\n",
       "      <td>Prior</td>\n",
       "      <td>15.0000</td>\n",
       "      <td>16.574586</td>\n",
       "      <td>16.574586</td>\n",
       "    </tr>\n",
       "    <tr>\n",
       "      <th>10</th>\n",
       "      <td>11</td>\n",
       "      <td>Prior</td>\n",
       "      <td>10.0000</td>\n",
       "      <td>5.917160</td>\n",
       "      <td>88.757396</td>\n",
       "    </tr>\n",
       "    <tr>\n",
       "      <th>11</th>\n",
       "      <td>12</td>\n",
       "      <td>Prior</td>\n",
       "      <td>26.0870</td>\n",
       "      <td>21.164021</td>\n",
       "      <td>31.746032</td>\n",
       "    </tr>\n",
       "    <tr>\n",
       "      <th>12</th>\n",
       "      <td>13</td>\n",
       "      <td>Prior</td>\n",
       "      <td>11.1111</td>\n",
       "      <td>5.076142</td>\n",
       "      <td>10.152284</td>\n",
       "    </tr>\n",
       "    <tr>\n",
       "      <th>13</th>\n",
       "      <td>14</td>\n",
       "      <td>Post</td>\n",
       "      <td>26.6667</td>\n",
       "      <td>9.708738</td>\n",
       "      <td>29.126214</td>\n",
       "    </tr>\n",
       "    <tr>\n",
       "      <th>14</th>\n",
       "      <td>15</td>\n",
       "      <td>Post</td>\n",
       "      <td>17.9487</td>\n",
       "      <td>4.201681</td>\n",
       "      <td>21.008403</td>\n",
       "    </tr>\n",
       "    <tr>\n",
       "      <th>15</th>\n",
       "      <td>16</td>\n",
       "      <td>Post</td>\n",
       "      <td>12.8205</td>\n",
       "      <td>13.043478</td>\n",
       "      <td>34.782609</td>\n",
       "    </tr>\n",
       "    <tr>\n",
       "      <th>16</th>\n",
       "      <td>17</td>\n",
       "      <td>Post</td>\n",
       "      <td>15.7895</td>\n",
       "      <td>9.950249</td>\n",
       "      <td>19.900498</td>\n",
       "    </tr>\n",
       "    <tr>\n",
       "      <th>17</th>\n",
       "      <td>18</td>\n",
       "      <td>Post</td>\n",
       "      <td>0.0000</td>\n",
       "      <td>9.950249</td>\n",
       "      <td>9.950249</td>\n",
       "    </tr>\n",
       "    <tr>\n",
       "      <th>18</th>\n",
       "      <td>19</td>\n",
       "      <td>Post</td>\n",
       "      <td>30.7692</td>\n",
       "      <td>8.510638</td>\n",
       "      <td>25.531915</td>\n",
       "    </tr>\n",
       "    <tr>\n",
       "      <th>19</th>\n",
       "      <td>20</td>\n",
       "      <td>Post</td>\n",
       "      <td>26.8293</td>\n",
       "      <td>9.259259</td>\n",
       "      <td>23.148148</td>\n",
       "    </tr>\n",
       "  </tbody>\n",
       "</table>\n",
       "</div>"
      ],
      "text/plain": [
       "    Month Reengineer  Employee_Turnover       TRFF          CI\n",
       "0       1      Prior             0.0000  24.390244   42.682927\n",
       "1       2      Prior             6.0606  19.354839   25.806452\n",
       "2       3      Prior            12.1212  35.087719  146.198830\n",
       "3       4      Prior             3.3333  18.404908  110.429448\n",
       "4       5      Prior            12.9032  17.964072   23.952096\n",
       "5       6      Prior             9.6774  41.176471   47.058824\n",
       "6       7      Prior            11.7647  13.422819    0.000000\n",
       "7       8      Prior            11.4286  31.250000   25.000000\n",
       "8       9      Prior            23.0769  17.241379  132.183908\n",
       "9      10      Prior            15.0000  16.574586   16.574586\n",
       "10     11      Prior            10.0000   5.917160   88.757396\n",
       "11     12      Prior            26.0870  21.164021   31.746032\n",
       "12     13      Prior            11.1111   5.076142   10.152284\n",
       "13     14       Post            26.6667   9.708738   29.126214\n",
       "14     15       Post            17.9487   4.201681   21.008403\n",
       "15     16       Post            12.8205  13.043478   34.782609\n",
       "16     17       Post            15.7895   9.950249   19.900498\n",
       "17     18       Post             0.0000   9.950249    9.950249\n",
       "18     19       Post            30.7692   8.510638   25.531915\n",
       "19     20       Post            26.8293   9.259259   23.148148"
      ]
     },
     "execution_count": 154,
     "metadata": {},
     "output_type": "execute_result"
    }
   ],
   "source": [
    "df4=pd.read_csv(\"Treatment_Facility.csv\")\n",
    "df4=df4.rename(columns={'VAR4':'TRFF','VAR5':'CI'})\n",
    "df4"
   ]
  },
  {
   "cell_type": "markdown",
   "id": "91b756bf",
   "metadata": {},
   "source": [
    "<b>To determine if the reengineering effort changed the critical incidence rate"
   ]
  },
  {
   "cell_type": "code",
   "execution_count": 155,
   "id": "6e4688b3",
   "metadata": {},
   "outputs": [
    {
     "name": "stderr",
     "output_type": "stream",
     "text": [
      "C:\\Users\\VVLG\\anaconda3\\lib\\site-packages\\seaborn\\distributions.py:2557: FutureWarning: `distplot` is a deprecated function and will be removed in a future version. Please adapt your code to use either `displot` (a figure-level function with similar flexibility) or `histplot` (an axes-level function for histograms).\n",
      "  warnings.warn(msg, FutureWarning)\n",
      "C:\\Users\\VVLG\\anaconda3\\lib\\site-packages\\seaborn\\distributions.py:2557: FutureWarning: `distplot` is a deprecated function and will be removed in a future version. Please adapt your code to use either `displot` (a figure-level function with similar flexibility) or `histplot` (an axes-level function for histograms).\n",
      "  warnings.warn(msg, FutureWarning)\n"
     ]
    },
    {
     "data": {
      "image/png": "[encoded data removed]",
      "text/plain": [
       "<Figure size 432x288 with 1 Axes>"
      ]
     },
     "metadata": {
      "needs_background": "light"
     },
     "output_type": "display_data"
    }
   ],
   "source": [
    "sns.distplot(df4['CI'].loc[df4.Reengineer=='Post'])\n",
    "sns.distplot(df4['CI'].loc[df4.Reengineer=='Prior'])\n",
    "plt.show()"
   ]
  },
  {
   "cell_type": "code",
   "execution_count": 156,
   "id": "df3c5a68",
   "metadata": {},
   "outputs": [
    {
     "data": {
      "text/plain": [
       "(20, 5)"
      ]
     },
     "execution_count": 156,
     "metadata": {},
     "output_type": "execute_result"
    }
   ],
   "source": [
    "df4.shape"
   ]
  },
  {
   "cell_type": "markdown",
   "id": "ceb02933",
   "metadata": {},
   "source": [
    "<center>H0: The critical incident rate has improved. <br>\n",
    "H1: The critical incident rate has not improved."
   ]
  },
  {
   "cell_type": "code",
   "execution_count": 157,
   "id": "9c9be736",
   "metadata": {},
   "outputs": [
    {
     "data": {
      "text/plain": [
       "Ttest_indResult(statistic=1.6279144253528646, pvalue=0.12091989189884149)"
      ]
     },
     "execution_count": 157,
     "metadata": {},
     "output_type": "execute_result"
    }
   ],
   "source": [
    "stats.ttest_ind(df4['CI'].loc[df4.Reengineer=='Prior'],df4['CI'].loc[df4.Reengineer=='Post'])"
   ]
  },
  {
   "cell_type": "markdown",
   "id": "618a7e68",
   "metadata": {},
   "source": [
    "<center>pvalue of 0.12 is greater than 0.05, hence we reject Null Hypothesis. <br>\n",
    "    <i>Therefore, the critical incident rate has not improved."
   ]
  },
  {
   "cell_type": "markdown",
   "id": "43c403ef",
   "metadata": {},
   "source": [
    "<h1><center>Business Problem 4: ApDudes"
   ]
  },
  {
   "cell_type": "code",
   "execution_count": 158,
   "id": "14acb892",
   "metadata": {},
   "outputs": [
    {
     "data": {
      "text/html": [
       "<div>\n",
       "<style scoped>\n",
       "    .dataframe tbody tr th:only-of-type {\n",
       "        vertical-align: middle;\n",
       "    }\n",
       "\n",
       "    .dataframe tbody tr th {\n",
       "        vertical-align: top;\n",
       "    }\n",
       "\n",
       "    .dataframe thead th {\n",
       "        text-align: right;\n",
       "    }\n",
       "</style>\n",
       "<table border=\"1\" class=\"dataframe\">\n",
       "  <thead>\n",
       "    <tr style=\"text-align: right;\">\n",
       "      <th></th>\n",
       "      <th>Days</th>\n",
       "      <th>Priority</th>\n",
       "    </tr>\n",
       "  </thead>\n",
       "  <tbody>\n",
       "    <tr>\n",
       "      <th>0</th>\n",
       "      <td>3.3</td>\n",
       "      <td>High</td>\n",
       "    </tr>\n",
       "    <tr>\n",
       "      <th>1</th>\n",
       "      <td>7.9</td>\n",
       "      <td>Medium</td>\n",
       "    </tr>\n",
       "    <tr>\n",
       "      <th>2</th>\n",
       "      <td>0.3</td>\n",
       "      <td>High</td>\n",
       "    </tr>\n",
       "    <tr>\n",
       "      <th>3</th>\n",
       "      <td>0.7</td>\n",
       "      <td>Medium</td>\n",
       "    </tr>\n",
       "    <tr>\n",
       "      <th>4</th>\n",
       "      <td>8.6</td>\n",
       "      <td>Medium</td>\n",
       "    </tr>\n",
       "    <tr>\n",
       "      <th>...</th>\n",
       "      <td>...</td>\n",
       "      <td>...</td>\n",
       "    </tr>\n",
       "    <tr>\n",
       "      <th>637</th>\n",
       "      <td>2.5</td>\n",
       "      <td>Low</td>\n",
       "    </tr>\n",
       "    <tr>\n",
       "      <th>638</th>\n",
       "      <td>0.3</td>\n",
       "      <td>High</td>\n",
       "    </tr>\n",
       "    <tr>\n",
       "      <th>639</th>\n",
       "      <td>0.3</td>\n",
       "      <td>Medium</td>\n",
       "    </tr>\n",
       "    <tr>\n",
       "      <th>640</th>\n",
       "      <td>1.3</td>\n",
       "      <td>Medium</td>\n",
       "    </tr>\n",
       "    <tr>\n",
       "      <th>641</th>\n",
       "      <td>0.5</td>\n",
       "      <td>High</td>\n",
       "    </tr>\n",
       "  </tbody>\n",
       "</table>\n",
       "<p>642 rows × 2 columns</p>\n",
       "</div>"
      ],
      "text/plain": [
       "     Days Priority\n",
       "0     3.3     High\n",
       "1     7.9   Medium\n",
       "2     0.3     High\n",
       "3     0.7   Medium\n",
       "4     8.6   Medium\n",
       "..    ...      ...\n",
       "637   2.5      Low\n",
       "638   0.3     High\n",
       "639   0.3   Medium\n",
       "640   1.3   Medium\n",
       "641   0.5     High\n",
       "\n",
       "[642 rows x 2 columns]"
      ]
     },
     "execution_count": 158,
     "metadata": {},
     "output_type": "execute_result"
    }
   ],
   "source": [
    "df5=pd.read_csv('Priority_Assessment.csv')\n",
    "df5"
   ]
  },
  {
   "cell_type": "code",
   "execution_count": 159,
   "id": "cce8201e",
   "metadata": {},
   "outputs": [
    {
     "data": {
      "text/plain": [
       "array(['High', 'Medium', 'Low'], dtype=object)"
      ]
     },
     "execution_count": 159,
     "metadata": {},
     "output_type": "execute_result"
    }
   ],
   "source": [
    "df5[\"Priority\"].unique()"
   ]
  },
  {
   "cell_type": "markdown",
   "id": "1f4b4165",
   "metadata": {},
   "source": [
    "<b>Classification and Prioritization system would speed the completion of jobs on priority basis."
   ]
  },
  {
   "cell_type": "markdown",
   "id": "9139cbb4",
   "metadata": {},
   "source": [
    "<center>H0: The Classification and Prioritization system has no impact on the completion of jobs on priority basis. <br>\n",
    "    H1: The Classification and Prioritization system has an impact on the completion of jobs on priority basis"
   ]
  },
  {
   "cell_type": "code",
   "execution_count": 160,
   "id": "fe09de33",
   "metadata": {},
   "outputs": [
    {
     "data": {
      "text/plain": [
       "F_onewayResult(statistic=1.812311010076072, pvalue=0.16411459461716182)"
      ]
     },
     "execution_count": 160,
     "metadata": {},
     "output_type": "execute_result"
    }
   ],
   "source": [
    "stats.f_oneway(\n",
    "    df5['Days'].loc[df5.Priority=='High'],\n",
    "    df5['Days'].loc[df5.Priority=='Medium'],\n",
    "    df5['Days'].loc[df5.Priority=='Low']\n",
    ")"
   ]
  },
  {
   "cell_type": "markdown",
   "id": "632787d7",
   "metadata": {},
   "source": [
    "<center> pvalue of 0.1611 is greater than 0.05, hence we reject null hypothesis.<br>\n",
    "    <i>Therefore, the Classification and Prioritization system has an impact on the completion of jobs on priority basis"
   ]
  },
  {
   "cell_type": "markdown",
   "id": "bc1a9d48",
   "metadata": {},
   "source": [
    "<h1><center>Business Problem 5: The Red Rocks Amphitheatre "
   ]
  },
  {
   "cell_type": "code",
   "execution_count": 161,
   "id": "4afdc329",
   "metadata": {},
   "outputs": [
    {
     "data": {
      "text/html": [
       "<div>\n",
       "<style scoped>\n",
       "    .dataframe tbody tr th:only-of-type {\n",
       "        vertical-align: middle;\n",
       "    }\n",
       "\n",
       "    .dataframe tbody tr th {\n",
       "        vertical-align: top;\n",
       "    }\n",
       "\n",
       "    .dataframe thead th {\n",
       "        text-align: right;\n",
       "    }\n",
       "</style>\n",
       "<table border=\"1\" class=\"dataframe\">\n",
       "  <thead>\n",
       "    <tr style=\"text-align: right;\">\n",
       "      <th></th>\n",
       "      <th>_rowstate_</th>\n",
       "      <th>Movie</th>\n",
       "      <th>Gender</th>\n",
       "      <th>Marital_Status</th>\n",
       "      <th>Sinage</th>\n",
       "      <th>Parking</th>\n",
       "      <th>Clean</th>\n",
       "      <th>Overall</th>\n",
       "      <th>Age</th>\n",
       "      <th>Income</th>\n",
       "      <th>Hear_About</th>\n",
       "    </tr>\n",
       "  </thead>\n",
       "  <tbody>\n",
       "    <tr>\n",
       "      <th>0</th>\n",
       "      <td>0</td>\n",
       "      <td>Ferris Buellers Day Off</td>\n",
       "      <td>Female</td>\n",
       "      <td>Married</td>\n",
       "      <td>2.0</td>\n",
       "      <td>2.0</td>\n",
       "      <td>2.0</td>\n",
       "      <td>2.0</td>\n",
       "      <td>3.0</td>\n",
       "      <td>1.0</td>\n",
       "      <td>5</td>\n",
       "    </tr>\n",
       "    <tr>\n",
       "      <th>1</th>\n",
       "      <td>0</td>\n",
       "      <td>Ferris Buellers Day Off</td>\n",
       "      <td>Female</td>\n",
       "      <td>Single</td>\n",
       "      <td>1.0</td>\n",
       "      <td>1.0</td>\n",
       "      <td>1.0</td>\n",
       "      <td>1.0</td>\n",
       "      <td>2.0</td>\n",
       "      <td>1.0</td>\n",
       "      <td>5</td>\n",
       "    </tr>\n",
       "    <tr>\n",
       "      <th>2</th>\n",
       "      <td>0</td>\n",
       "      <td>Ferris Buellers Day Off</td>\n",
       "      <td>Male</td>\n",
       "      <td>Married</td>\n",
       "      <td>2.0</td>\n",
       "      <td>4.0</td>\n",
       "      <td>3.0</td>\n",
       "      <td>2.0</td>\n",
       "      <td>4.0</td>\n",
       "      <td>1.0</td>\n",
       "      <td>5</td>\n",
       "    </tr>\n",
       "    <tr>\n",
       "      <th>3</th>\n",
       "      <td>0</td>\n",
       "      <td>Ferris Buellers Day Off</td>\n",
       "      <td>Female</td>\n",
       "      <td>Married</td>\n",
       "      <td>1.0</td>\n",
       "      <td>3.0</td>\n",
       "      <td>2.0</td>\n",
       "      <td>2.0</td>\n",
       "      <td>4.0</td>\n",
       "      <td>1.0</td>\n",
       "      <td>5</td>\n",
       "    </tr>\n",
       "    <tr>\n",
       "      <th>4</th>\n",
       "      <td>0</td>\n",
       "      <td>Ferris Buellers Day Off</td>\n",
       "      <td>Female</td>\n",
       "      <td>Married</td>\n",
       "      <td>1.0</td>\n",
       "      <td>1.0</td>\n",
       "      <td>1.0</td>\n",
       "      <td>1.0</td>\n",
       "      <td>3.0</td>\n",
       "      <td>3.0</td>\n",
       "      <td>1</td>\n",
       "    </tr>\n",
       "    <tr>\n",
       "      <th>...</th>\n",
       "      <td>...</td>\n",
       "      <td>...</td>\n",
       "      <td>...</td>\n",
       "      <td>...</td>\n",
       "      <td>...</td>\n",
       "      <td>...</td>\n",
       "      <td>...</td>\n",
       "      <td>...</td>\n",
       "      <td>...</td>\n",
       "      <td>...</td>\n",
       "      <td>...</td>\n",
       "    </tr>\n",
       "    <tr>\n",
       "      <th>325</th>\n",
       "      <td>0</td>\n",
       "      <td>Old School</td>\n",
       "      <td>2</td>\n",
       "      <td>2</td>\n",
       "      <td>1.0</td>\n",
       "      <td>2.0</td>\n",
       "      <td>1.0</td>\n",
       "      <td>1.0</td>\n",
       "      <td>2.0</td>\n",
       "      <td>1.0</td>\n",
       "      <td>1</td>\n",
       "    </tr>\n",
       "    <tr>\n",
       "      <th>326</th>\n",
       "      <td>0</td>\n",
       "      <td>Old School</td>\n",
       "      <td>1</td>\n",
       "      <td>1</td>\n",
       "      <td>2.0</td>\n",
       "      <td>2.0</td>\n",
       "      <td>2.0</td>\n",
       "      <td>2.0</td>\n",
       "      <td>3.0</td>\n",
       "      <td>3.0</td>\n",
       "      <td>5</td>\n",
       "    </tr>\n",
       "    <tr>\n",
       "      <th>327</th>\n",
       "      <td>0</td>\n",
       "      <td>Old School</td>\n",
       "      <td>2</td>\n",
       "      <td>1</td>\n",
       "      <td>2.0</td>\n",
       "      <td>1.0</td>\n",
       "      <td>1.0</td>\n",
       "      <td>2.0</td>\n",
       "      <td>2.0</td>\n",
       "      <td>2.0</td>\n",
       "      <td>5</td>\n",
       "    </tr>\n",
       "    <tr>\n",
       "      <th>328</th>\n",
       "      <td>0</td>\n",
       "      <td>Old School</td>\n",
       "      <td>1</td>\n",
       "      <td>1</td>\n",
       "      <td>1.0</td>\n",
       "      <td>1.0</td>\n",
       "      <td>1.0</td>\n",
       "      <td>1.0</td>\n",
       "      <td>2.0</td>\n",
       "      <td>1.0</td>\n",
       "      <td>3</td>\n",
       "    </tr>\n",
       "    <tr>\n",
       "      <th>329</th>\n",
       "      <td>0</td>\n",
       "      <td>Old School</td>\n",
       "      <td>2</td>\n",
       "      <td>2</td>\n",
       "      <td>2.0</td>\n",
       "      <td>2.0</td>\n",
       "      <td>3.0</td>\n",
       "      <td>1.0</td>\n",
       "      <td>2.0</td>\n",
       "      <td>1.0</td>\n",
       "      <td>5</td>\n",
       "    </tr>\n",
       "  </tbody>\n",
       "</table>\n",
       "<p>330 rows × 11 columns</p>\n",
       "</div>"
      ],
      "text/plain": [
       "     _rowstate_                    Movie  Gender Marital_Status  Sinage  \\\n",
       "0             0  Ferris Buellers Day Off  Female        Married     2.0   \n",
       "1             0  Ferris Buellers Day Off  Female         Single     1.0   \n",
       "2             0  Ferris Buellers Day Off    Male        Married     2.0   \n",
       "3             0  Ferris Buellers Day Off  Female        Married     1.0   \n",
       "4             0  Ferris Buellers Day Off  Female        Married     1.0   \n",
       "..          ...                      ...     ...            ...     ...   \n",
       "325           0               Old School       2              2     1.0   \n",
       "326           0               Old School       1              1     2.0   \n",
       "327           0               Old School       2              1     2.0   \n",
       "328           0               Old School       1              1     1.0   \n",
       "329           0               Old School       2              2     2.0   \n",
       "\n",
       "     Parking  Clean  Overall  Age  Income Hear_About  \n",
       "0        2.0    2.0      2.0  3.0     1.0          5  \n",
       "1        1.0    1.0      1.0  2.0     1.0          5  \n",
       "2        4.0    3.0      2.0  4.0     1.0          5  \n",
       "3        3.0    2.0      2.0  4.0     1.0          5  \n",
       "4        1.0    1.0      1.0  3.0     3.0          1  \n",
       "..       ...    ...      ...  ...     ...        ...  \n",
       "325      2.0    1.0      1.0  2.0     1.0          1  \n",
       "326      2.0    2.0      2.0  3.0     3.0          5  \n",
       "327      1.0    1.0      2.0  2.0     2.0          5  \n",
       "328      1.0    1.0      1.0  2.0     1.0          3  \n",
       "329      2.0    3.0      1.0  2.0     1.0          5  \n",
       "\n",
       "[330 rows x 11 columns]"
      ]
     },
     "execution_count": 161,
     "metadata": {},
     "output_type": "execute_result"
    }
   ],
   "source": [
    "df6=pd.read_csv('Films.csv')\n",
    "df6"
   ]
  },
  {
   "cell_type": "code",
   "execution_count": 162,
   "id": "aa1f0d80",
   "metadata": {},
   "outputs": [
    {
     "name": "stdout",
     "output_type": "stream",
     "text": [
      "<class 'pandas.core.frame.DataFrame'>\n",
      "RangeIndex: 330 entries, 0 to 329\n",
      "Data columns (total 11 columns):\n",
      " #   Column          Non-Null Count  Dtype  \n",
      "---  ------          --------------  -----  \n",
      " 0   _rowstate_      330 non-null    int64  \n",
      " 1   Movie           330 non-null    object \n",
      " 2   Gender          330 non-null    object \n",
      " 3   Marital_Status  328 non-null    object \n",
      " 4   Sinage          328 non-null    float64\n",
      " 5   Parking         328 non-null    float64\n",
      " 6   Clean           327 non-null    float64\n",
      " 7   Overall         328 non-null    float64\n",
      " 8   Age             328 non-null    float64\n",
      " 9   Income          314 non-null    float64\n",
      " 10  Hear_About      323 non-null    object \n",
      "dtypes: float64(6), int64(1), object(4)\n",
      "memory usage: 28.5+ KB\n"
     ]
    }
   ],
   "source": [
    "df6.info()"
   ]
  },
  {
   "cell_type": "code",
   "execution_count": 163,
   "id": "401ce3b7",
   "metadata": {},
   "outputs": [],
   "source": [
    "df6['Marital_Status']=df6['Marital_Status'].apply(lambda x: 1 if x=='Married'else x)\n",
    "df6['Marital_Status']=df6['Marital_Status'].apply(lambda x: 2 if x=='Single' else x)\n",
    "df6['Marital_Status']=df6['Marital_Status'].apply(lambda x: 2 if x=='Slngle'else x)"
   ]
  },
  {
   "cell_type": "code",
   "execution_count": 164,
   "id": "1f6a4010",
   "metadata": {},
   "outputs": [],
   "source": [
    "df6['Marital_Status']=pd.to_numeric(df6['Marital_Status'])"
   ]
  },
  {
   "cell_type": "code",
   "execution_count": 165,
   "id": "a3991047",
   "metadata": {},
   "outputs": [],
   "source": [
    "# df6.Marital_Status.unique()"
   ]
  },
  {
   "cell_type": "code",
   "execution_count": 166,
   "id": "57f3009a",
   "metadata": {},
   "outputs": [
    {
     "data": {
      "text/plain": [
       "array(['Female', 'Male', '2', '1'], dtype=object)"
      ]
     },
     "execution_count": 166,
     "metadata": {},
     "output_type": "execute_result"
    }
   ],
   "source": [
    "df6.Gender.unique()"
   ]
  },
  {
   "cell_type": "code",
   "execution_count": 167,
   "id": "8a8d2e2b",
   "metadata": {},
   "outputs": [],
   "source": [
    "df6['Gender']=df6['Gender'].apply(lambda x: 'Male' if x=='1' else x)\n",
    "df6['Gender']=df6['Gender'].apply(lambda x: 'Female' if x=='2' else x)"
   ]
  },
  {
   "cell_type": "code",
   "execution_count": 168,
   "id": "1551cd55",
   "metadata": {},
   "outputs": [
    {
     "data": {
      "text/plain": [
       "array(['Female', 'Male'], dtype=object)"
      ]
     },
     "execution_count": 168,
     "metadata": {},
     "output_type": "execute_result"
    }
   ],
   "source": [
    "df6.Gender.unique()"
   ]
  },
  {
   "cell_type": "code",
   "execution_count": 60,
   "id": "d281a1f2",
   "metadata": {},
   "outputs": [],
   "source": [
    "# df6['Gender']=pd.to_numeric(df6['Gender'])"
   ]
  },
  {
   "cell_type": "code",
   "execution_count": 61,
   "id": "eba23387",
   "metadata": {},
   "outputs": [],
   "source": [
    "# df6['Movie']=df6['Movie'].astype(dtype='str')\n",
    "# df6['Marital_Status']=df6['Marital_Status'].astype(dtype='str')\n",
    "# df6['Sinage']=df6['Sinage'].astype(dtype='str')\n",
    "# df6['Clean']=df6['Clean'].astype(dtype='str')\n",
    "# df6['Parking']=df6['Parking'].astype(dtype='str')\n",
    "# df6['Overall']=df6['Overall'].astype(dtype='str')\n",
    "# df6['Age']=df6['Age'].astype(dtype='str')\n",
    "# df6['Hear_About']=df6['Hear_About'].astype(dtype='str')"
   ]
  },
  {
   "cell_type": "code",
   "execution_count": 62,
   "id": "71035714",
   "metadata": {},
   "outputs": [],
   "source": [
    "# df6['Movie']=df6['Movie'].fillna(df6['Movie'].mode())\n",
    "# df6['Marital_Status']=df6['Marital_Status'].fillna(df6['Marital_Status'].mode())\n",
    "# df6['Sinage']=df6['Sinage'].fillna('2.0')\n",
    "# df6['Sinage']=df6['Sinage'].fillna(df6['Sinage'].mode())\n",
    "# df6['Clean']=df6['Clean'].fillna(df6['Clean'].mode())\n",
    "# df6['Parking']=df6['Parking'].fillna(df6['Parking'].mode())\n",
    "# df6['Overall']=df6['Overall'].fillna(df6['Overall'].mode())\n",
    "# df6['Age']=df6['Age'].fillna(df6['Age'].mode())\n",
    "# df6['Income']=df6['Income'].fillna(df6['Income'].mean())\n",
    "# df6['Hear_About']=df6['Hear_About'].fillna(df6['Hear_About'].mode)"
   ]
  },
  {
   "cell_type": "code",
   "execution_count": 63,
   "id": "cd94b945",
   "metadata": {},
   "outputs": [],
   "source": [
    "df6['Income']=df6['Income'].fillna(df6['Income'].mean())"
   ]
  },
  {
   "cell_type": "code",
   "execution_count": 64,
   "id": "cfd17fd4",
   "metadata": {},
   "outputs": [
    {
     "name": "stderr",
     "output_type": "stream",
     "text": [
      "C:\\Users\\VVLG\\anaconda3\\lib\\site-packages\\seaborn\\_decorators.py:36: FutureWarning: Pass the following variable as a keyword arg: x. From version 0.12, the only valid positional argument will be `data`, and passing other arguments without an explicit keyword will result in an error or misinterpretation.\n",
      "  warnings.warn(\n"
     ]
    },
    {
     "data": {
      "text/plain": [
       "<AxesSubplot:xlabel='Income'>"
      ]
     },
     "execution_count": 64,
     "metadata": {},
     "output_type": "execute_result"
    },
    {
     "data": {
      "image/png": "[encoded data removed]",
      "text/plain": [
       "<Figure size 432x288 with 1 Axes>"
      ]
     },
     "metadata": {
      "needs_background": "light"
     },
     "output_type": "display_data"
    }
   ],
   "source": [
    "sns.boxplot(df6.Income)"
   ]
  },
  {
   "cell_type": "markdown",
   "id": "893b5299",
   "metadata": {},
   "source": [
    "<h4>5a: What is the overall level of customer satisfaction?"
   ]
  },
  {
   "cell_type": "code",
   "execution_count": 65,
   "id": "1a026097",
   "metadata": {},
   "outputs": [
    {
     "data": {
      "text/plain": [
       "Index(['_rowstate_', 'Movie', 'Gender', 'Marital_Status', 'Sinage', 'Parking',\n",
       "       'Clean', 'Overall', 'Age', 'Income', 'Hear_About'],\n",
       "      dtype='object')"
      ]
     },
     "execution_count": 65,
     "metadata": {},
     "output_type": "execute_result"
    }
   ],
   "source": [
    "df6.columns"
   ]
  },
  {
   "cell_type": "markdown",
   "id": "cc1d9df7",
   "metadata": {},
   "source": [
    "<center>H0: The customers are satisfied<br>\n",
    "    H1: The customers are not satisfied"
   ]
  },
  {
   "cell_type": "code",
   "execution_count": 66,
   "id": "ff7bc15e",
   "metadata": {},
   "outputs": [
    {
     "data": {
      "text/html": [
       "<div>\n",
       "<style scoped>\n",
       "    .dataframe tbody tr th:only-of-type {\n",
       "        vertical-align: middle;\n",
       "    }\n",
       "\n",
       "    .dataframe tbody tr th {\n",
       "        vertical-align: top;\n",
       "    }\n",
       "\n",
       "    .dataframe thead th {\n",
       "        text-align: right;\n",
       "    }\n",
       "</style>\n",
       "<table border=\"1\" class=\"dataframe\">\n",
       "  <thead>\n",
       "    <tr style=\"text-align: right;\">\n",
       "      <th>Overall</th>\n",
       "      <th>1.0</th>\n",
       "      <th>2.0</th>\n",
       "      <th>3.0</th>\n",
       "      <th>4.0</th>\n",
       "      <th>5.0</th>\n",
       "      <th>All</th>\n",
       "    </tr>\n",
       "    <tr>\n",
       "      <th>Movie</th>\n",
       "      <th></th>\n",
       "      <th></th>\n",
       "      <th></th>\n",
       "      <th></th>\n",
       "      <th></th>\n",
       "      <th></th>\n",
       "    </tr>\n",
       "  </thead>\n",
       "  <tbody>\n",
       "    <tr>\n",
       "      <th>Ferris Buellers Day Off</th>\n",
       "      <td>59</td>\n",
       "      <td>71</td>\n",
       "      <td>4</td>\n",
       "      <td>1</td>\n",
       "      <td>2</td>\n",
       "      <td>137</td>\n",
       "    </tr>\n",
       "    <tr>\n",
       "      <th>Old School</th>\n",
       "      <td>21</td>\n",
       "      <td>10</td>\n",
       "      <td>0</td>\n",
       "      <td>0</td>\n",
       "      <td>1</td>\n",
       "      <td>32</td>\n",
       "    </tr>\n",
       "    <tr>\n",
       "      <th>Willy Wonka</th>\n",
       "      <td>71</td>\n",
       "      <td>79</td>\n",
       "      <td>8</td>\n",
       "      <td>0</td>\n",
       "      <td>1</td>\n",
       "      <td>159</td>\n",
       "    </tr>\n",
       "    <tr>\n",
       "      <th>All</th>\n",
       "      <td>151</td>\n",
       "      <td>160</td>\n",
       "      <td>12</td>\n",
       "      <td>1</td>\n",
       "      <td>4</td>\n",
       "      <td>328</td>\n",
       "    </tr>\n",
       "  </tbody>\n",
       "</table>\n",
       "</div>"
      ],
      "text/plain": [
       "Overall                  1.0  2.0  3.0  4.0  5.0  All\n",
       "Movie                                                \n",
       "Ferris Buellers Day Off   59   71    4    1    2  137\n",
       "Old School                21   10    0    0    1   32\n",
       "Willy Wonka               71   79    8    0    1  159\n",
       "All                      151  160   12    1    4  328"
      ]
     },
     "execution_count": 66,
     "metadata": {},
     "output_type": "execute_result"
    }
   ],
   "source": [
    "Cust_Satis=pd.crosstab(df6.Movie,df6.Overall,margins=True)\n",
    "Cust_Satis"
   ]
  },
  {
   "cell_type": "code",
   "execution_count": 67,
   "id": "892866d8",
   "metadata": {},
   "outputs": [
    {
     "data": {
      "text/plain": [
       "(10.359658219839295,\n",
       " 0.7965274318750787,\n",
       " 15,\n",
       " array([[6.30701220e+01, 6.68292683e+01, 5.01219512e+00, 4.17682927e-01,\n",
       "         1.67073171e+00, 1.37000000e+02],\n",
       "        [1.47317073e+01, 1.56097561e+01, 1.17073171e+00, 9.75609756e-02,\n",
       "         3.90243902e-01, 3.20000000e+01],\n",
       "        [7.31981707e+01, 7.75609756e+01, 5.81707317e+00, 4.84756098e-01,\n",
       "         1.93902439e+00, 1.59000000e+02],\n",
       "        [1.51000000e+02, 1.60000000e+02, 1.20000000e+01, 1.00000000e+00,\n",
       "         4.00000000e+00, 3.28000000e+02]]))"
      ]
     },
     "execution_count": 67,
     "metadata": {},
     "output_type": "execute_result"
    }
   ],
   "source": [
    "Chi2_CustSatis=stats.chi2_contingency(Cust_Satis)\n",
    "Chi2_CustSatis"
   ]
  },
  {
   "cell_type": "markdown",
   "id": "a9b28f7f",
   "metadata": {},
   "source": [
    "<center>Since pvalue > 0.05 we accept null hypothesis.<br>\n",
    "    The customers are satisfied with the movies."
   ]
  },
  {
   "cell_type": "markdown",
   "id": "9892b7f2",
   "metadata": {},
   "source": [
    "<h4>5b. What factors are linked to satisfaction?"
   ]
  },
  {
   "cell_type": "code",
   "execution_count": 68,
   "id": "883f441e",
   "metadata": {},
   "outputs": [
    {
     "data": {
      "text/plain": [
       "Index(['_rowstate_', 'Movie', 'Gender', 'Marital_Status', 'Sinage', 'Parking',\n",
       "       'Clean', 'Overall', 'Age', 'Income', 'Hear_About'],\n",
       "      dtype='object')"
      ]
     },
     "execution_count": 68,
     "metadata": {},
     "output_type": "execute_result"
    }
   ],
   "source": [
    "df6.columns"
   ]
  },
  {
   "cell_type": "code",
   "execution_count": 77,
   "id": "b5fed0ca",
   "metadata": {},
   "outputs": [
    {
     "data": {
      "text/html": [
       "<div>\n",
       "<style scoped>\n",
       "    .dataframe tbody tr th:only-of-type {\n",
       "        vertical-align: middle;\n",
       "    }\n",
       "\n",
       "    .dataframe tbody tr th {\n",
       "        vertical-align: top;\n",
       "    }\n",
       "\n",
       "    .dataframe thead th {\n",
       "        text-align: right;\n",
       "    }\n",
       "</style>\n",
       "<table border=\"1\" class=\"dataframe\">\n",
       "  <thead>\n",
       "    <tr style=\"text-align: right;\">\n",
       "      <th>Overall</th>\n",
       "      <th>1.0</th>\n",
       "      <th>2.0</th>\n",
       "      <th>3.0</th>\n",
       "      <th>4.0</th>\n",
       "      <th>5.0</th>\n",
       "      <th>All</th>\n",
       "    </tr>\n",
       "    <tr>\n",
       "      <th>Sinage</th>\n",
       "      <th></th>\n",
       "      <th></th>\n",
       "      <th></th>\n",
       "      <th></th>\n",
       "      <th></th>\n",
       "      <th></th>\n",
       "    </tr>\n",
       "  </thead>\n",
       "  <tbody>\n",
       "    <tr>\n",
       "      <th>1.0</th>\n",
       "      <td>90</td>\n",
       "      <td>22</td>\n",
       "      <td>0</td>\n",
       "      <td>0</td>\n",
       "      <td>1</td>\n",
       "      <td>113</td>\n",
       "    </tr>\n",
       "    <tr>\n",
       "      <th>2.0</th>\n",
       "      <td>43</td>\n",
       "      <td>107</td>\n",
       "      <td>4</td>\n",
       "      <td>0</td>\n",
       "      <td>1</td>\n",
       "      <td>155</td>\n",
       "    </tr>\n",
       "    <tr>\n",
       "      <th>3.0</th>\n",
       "      <td>13</td>\n",
       "      <td>25</td>\n",
       "      <td>8</td>\n",
       "      <td>1</td>\n",
       "      <td>1</td>\n",
       "      <td>48</td>\n",
       "    </tr>\n",
       "    <tr>\n",
       "      <th>4.0</th>\n",
       "      <td>2</td>\n",
       "      <td>4</td>\n",
       "      <td>0</td>\n",
       "      <td>0</td>\n",
       "      <td>0</td>\n",
       "      <td>6</td>\n",
       "    </tr>\n",
       "    <tr>\n",
       "      <th>5.0</th>\n",
       "      <td>2</td>\n",
       "      <td>2</td>\n",
       "      <td>0</td>\n",
       "      <td>0</td>\n",
       "      <td>1</td>\n",
       "      <td>5</td>\n",
       "    </tr>\n",
       "    <tr>\n",
       "      <th>All</th>\n",
       "      <td>150</td>\n",
       "      <td>160</td>\n",
       "      <td>12</td>\n",
       "      <td>1</td>\n",
       "      <td>4</td>\n",
       "      <td>327</td>\n",
       "    </tr>\n",
       "  </tbody>\n",
       "</table>\n",
       "</div>"
      ],
      "text/plain": [
       "Overall  1.0  2.0  3.0  4.0  5.0  All\n",
       "Sinage                               \n",
       "1.0       90   22    0    0    1  113\n",
       "2.0       43  107    4    0    1  155\n",
       "3.0       13   25    8    1    1   48\n",
       "4.0        2    4    0    0    0    6\n",
       "5.0        2    2    0    0    1    5\n",
       "All      150  160   12    1    4  327"
      ]
     },
     "execution_count": 77,
     "metadata": {},
     "output_type": "execute_result"
    }
   ],
   "source": [
    "Sin_Over=pd.crosstab(df6.Sinage,df6.Overall, margins=True)\n",
    "Sin_Over"
   ]
  },
  {
   "cell_type": "code",
   "execution_count": 78,
   "id": "c2826abe",
   "metadata": {},
   "outputs": [
    {
     "data": {
      "text/plain": [
       "(124.81695331531306,\n",
       " 3.104822136693717e-15,\n",
       " 25,\n",
       " array([[5.18348624e+01, 5.52905199e+01, 4.14678899e+00, 3.45565749e-01,\n",
       "         1.38226300e+00, 1.13000000e+02],\n",
       "        [7.11009174e+01, 7.58409786e+01, 5.68807339e+00, 4.74006116e-01,\n",
       "         1.89602446e+00, 1.55000000e+02],\n",
       "        [2.20183486e+01, 2.34862385e+01, 1.76146789e+00, 1.46788991e-01,\n",
       "         5.87155963e-01, 4.80000000e+01],\n",
       "        [2.75229358e+00, 2.93577982e+00, 2.20183486e-01, 1.83486239e-02,\n",
       "         7.33944954e-02, 6.00000000e+00],\n",
       "        [2.29357798e+00, 2.44648318e+00, 1.83486239e-01, 1.52905199e-02,\n",
       "         6.11620795e-02, 5.00000000e+00],\n",
       "        [1.50000000e+02, 1.60000000e+02, 1.20000000e+01, 1.00000000e+00,\n",
       "         4.00000000e+00, 3.27000000e+02]]))"
      ]
     },
     "execution_count": 78,
     "metadata": {},
     "output_type": "execute_result"
    }
   ],
   "source": [
    "stats.chi2_contingency(Sin_Over)"
   ]
  },
  {
   "cell_type": "code",
   "execution_count": 71,
   "id": "6289c918",
   "metadata": {},
   "outputs": [
    {
     "data": {
      "text/plain": [
       "Index(['_rowstate_', 'Movie', 'Gender', 'Marital_Status', 'Sinage', 'Parking',\n",
       "       'Clean', 'Overall', 'Age', 'Income', 'Hear_About'],\n",
       "      dtype='object')"
      ]
     },
     "execution_count": 71,
     "metadata": {},
     "output_type": "execute_result"
    }
   ],
   "source": [
    "df6.columns"
   ]
  },
  {
   "cell_type": "code",
   "execution_count": 80,
   "id": "e88e9f97",
   "metadata": {},
   "outputs": [
    {
     "data": {
      "text/html": [
       "<div>\n",
       "<style scoped>\n",
       "    .dataframe tbody tr th:only-of-type {\n",
       "        vertical-align: middle;\n",
       "    }\n",
       "\n",
       "    .dataframe tbody tr th {\n",
       "        vertical-align: top;\n",
       "    }\n",
       "\n",
       "    .dataframe thead th {\n",
       "        text-align: right;\n",
       "    }\n",
       "</style>\n",
       "<table border=\"1\" class=\"dataframe\">\n",
       "  <thead>\n",
       "    <tr style=\"text-align: right;\">\n",
       "      <th>Overall</th>\n",
       "      <th>1.0</th>\n",
       "      <th>2.0</th>\n",
       "      <th>3.0</th>\n",
       "      <th>4.0</th>\n",
       "      <th>5.0</th>\n",
       "      <th>All</th>\n",
       "    </tr>\n",
       "    <tr>\n",
       "      <th>Parking</th>\n",
       "      <th></th>\n",
       "      <th></th>\n",
       "      <th></th>\n",
       "      <th></th>\n",
       "      <th></th>\n",
       "      <th></th>\n",
       "    </tr>\n",
       "  </thead>\n",
       "  <tbody>\n",
       "    <tr>\n",
       "      <th>1.0</th>\n",
       "      <td>105</td>\n",
       "      <td>26</td>\n",
       "      <td>2</td>\n",
       "      <td>0</td>\n",
       "      <td>1</td>\n",
       "      <td>134</td>\n",
       "    </tr>\n",
       "    <tr>\n",
       "      <th>2.0</th>\n",
       "      <td>40</td>\n",
       "      <td>109</td>\n",
       "      <td>3</td>\n",
       "      <td>0</td>\n",
       "      <td>1</td>\n",
       "      <td>153</td>\n",
       "    </tr>\n",
       "    <tr>\n",
       "      <th>3.0</th>\n",
       "      <td>4</td>\n",
       "      <td>20</td>\n",
       "      <td>5</td>\n",
       "      <td>0</td>\n",
       "      <td>0</td>\n",
       "      <td>29</td>\n",
       "    </tr>\n",
       "    <tr>\n",
       "      <th>4.0</th>\n",
       "      <td>2</td>\n",
       "      <td>3</td>\n",
       "      <td>1</td>\n",
       "      <td>0</td>\n",
       "      <td>1</td>\n",
       "      <td>7</td>\n",
       "    </tr>\n",
       "    <tr>\n",
       "      <th>5.0</th>\n",
       "      <td>0</td>\n",
       "      <td>1</td>\n",
       "      <td>1</td>\n",
       "      <td>1</td>\n",
       "      <td>1</td>\n",
       "      <td>4</td>\n",
       "    </tr>\n",
       "    <tr>\n",
       "      <th>All</th>\n",
       "      <td>151</td>\n",
       "      <td>159</td>\n",
       "      <td>12</td>\n",
       "      <td>1</td>\n",
       "      <td>4</td>\n",
       "      <td>327</td>\n",
       "    </tr>\n",
       "  </tbody>\n",
       "</table>\n",
       "</div>"
      ],
      "text/plain": [
       "Overall  1.0  2.0  3.0  4.0  5.0  All\n",
       "Parking                              \n",
       "1.0      105   26    2    0    1  134\n",
       "2.0       40  109    3    0    1  153\n",
       "3.0        4   20    5    0    0   29\n",
       "4.0        2    3    1    0    1    7\n",
       "5.0        0    1    1    1    1    4\n",
       "All      151  159   12    1    4  327"
      ]
     },
     "execution_count": 80,
     "metadata": {},
     "output_type": "execute_result"
    }
   ],
   "source": [
    "Park_Over=pd.crosstab(df6.Parking,df6.Overall,margins=True)\n",
    "Park_Over"
   ]
  },
  {
   "cell_type": "code",
   "execution_count": 81,
   "id": "23754e02",
   "metadata": {},
   "outputs": [
    {
     "data": {
      "text/plain": [
       "(229.47943657632044,\n",
       " 5.821924774203766e-35,\n",
       " 25,\n",
       " array([[6.18776758e+01, 6.51559633e+01, 4.91743119e+00, 4.09785933e-01,\n",
       "         1.63914373e+00, 1.34000000e+02],\n",
       "        [7.06513761e+01, 7.43944954e+01, 5.61467890e+00, 4.67889908e-01,\n",
       "         1.87155963e+00, 1.53000000e+02],\n",
       "        [1.33914373e+01, 1.41009174e+01, 1.06422018e+00, 8.86850153e-02,\n",
       "         3.54740061e-01, 2.90000000e+01],\n",
       "        [3.23241590e+00, 3.40366972e+00, 2.56880734e-01, 2.14067278e-02,\n",
       "         8.56269113e-02, 7.00000000e+00],\n",
       "        [1.84709480e+00, 1.94495413e+00, 1.46788991e-01, 1.22324159e-02,\n",
       "         4.89296636e-02, 4.00000000e+00],\n",
       "        [1.51000000e+02, 1.59000000e+02, 1.20000000e+01, 1.00000000e+00,\n",
       "         4.00000000e+00, 3.27000000e+02]]))"
      ]
     },
     "execution_count": 81,
     "metadata": {},
     "output_type": "execute_result"
    }
   ],
   "source": [
    "stats.chi2_contingency(Park_Over)"
   ]
  },
  {
   "cell_type": "code",
   "execution_count": 74,
   "id": "35784793",
   "metadata": {},
   "outputs": [
    {
     "data": {
      "text/plain": [
       "Index(['_rowstate_', 'Movie', 'Gender', 'Marital_Status', 'Sinage', 'Parking',\n",
       "       'Clean', 'Overall', 'Age', 'Income', 'Hear_About'],\n",
       "      dtype='object')"
      ]
     },
     "execution_count": 74,
     "metadata": {},
     "output_type": "execute_result"
    }
   ],
   "source": [
    "df6.columns"
   ]
  },
  {
   "cell_type": "code",
   "execution_count": 75,
   "id": "c3a7d2b5",
   "metadata": {},
   "outputs": [
    {
     "data": {
      "text/html": [
       "<div>\n",
       "<style scoped>\n",
       "    .dataframe tbody tr th:only-of-type {\n",
       "        vertical-align: middle;\n",
       "    }\n",
       "\n",
       "    .dataframe tbody tr th {\n",
       "        vertical-align: top;\n",
       "    }\n",
       "\n",
       "    .dataframe thead th {\n",
       "        text-align: right;\n",
       "    }\n",
       "</style>\n",
       "<table border=\"1\" class=\"dataframe\">\n",
       "  <thead>\n",
       "    <tr style=\"text-align: right;\">\n",
       "      <th>Overall</th>\n",
       "      <th>1.0</th>\n",
       "      <th>2.0</th>\n",
       "      <th>3.0</th>\n",
       "      <th>4.0</th>\n",
       "      <th>5.0</th>\n",
       "      <th>All</th>\n",
       "    </tr>\n",
       "    <tr>\n",
       "      <th>Clean</th>\n",
       "      <th></th>\n",
       "      <th></th>\n",
       "      <th></th>\n",
       "      <th></th>\n",
       "      <th></th>\n",
       "      <th></th>\n",
       "    </tr>\n",
       "  </thead>\n",
       "  <tbody>\n",
       "    <tr>\n",
       "      <th>1.0</th>\n",
       "      <td>104</td>\n",
       "      <td>35</td>\n",
       "      <td>3</td>\n",
       "      <td>0</td>\n",
       "      <td>2</td>\n",
       "      <td>144</td>\n",
       "    </tr>\n",
       "    <tr>\n",
       "      <th>2.0</th>\n",
       "      <td>39</td>\n",
       "      <td>106</td>\n",
       "      <td>5</td>\n",
       "      <td>1</td>\n",
       "      <td>1</td>\n",
       "      <td>152</td>\n",
       "    </tr>\n",
       "    <tr>\n",
       "      <th>3.0</th>\n",
       "      <td>6</td>\n",
       "      <td>14</td>\n",
       "      <td>4</td>\n",
       "      <td>0</td>\n",
       "      <td>0</td>\n",
       "      <td>24</td>\n",
       "    </tr>\n",
       "    <tr>\n",
       "      <th>4.0</th>\n",
       "      <td>1</td>\n",
       "      <td>4</td>\n",
       "      <td>0</td>\n",
       "      <td>0</td>\n",
       "      <td>0</td>\n",
       "      <td>5</td>\n",
       "    </tr>\n",
       "    <tr>\n",
       "      <th>5.0</th>\n",
       "      <td>1</td>\n",
       "      <td>0</td>\n",
       "      <td>0</td>\n",
       "      <td>0</td>\n",
       "      <td>1</td>\n",
       "      <td>2</td>\n",
       "    </tr>\n",
       "    <tr>\n",
       "      <th>All</th>\n",
       "      <td>151</td>\n",
       "      <td>159</td>\n",
       "      <td>12</td>\n",
       "      <td>1</td>\n",
       "      <td>4</td>\n",
       "      <td>327</td>\n",
       "    </tr>\n",
       "  </tbody>\n",
       "</table>\n",
       "</div>"
      ],
      "text/plain": [
       "Overall  1.0  2.0  3.0  4.0  5.0  All\n",
       "Clean                                \n",
       "1.0      104   35    3    0    2  144\n",
       "2.0       39  106    5    1    1  152\n",
       "3.0        6   14    4    0    0   24\n",
       "4.0        1    4    0    0    0    5\n",
       "5.0        1    0    0    0    1    2\n",
       "All      151  159   12    1    4  327"
      ]
     },
     "execution_count": 75,
     "metadata": {},
     "output_type": "execute_result"
    }
   ],
   "source": [
    "Cle_Over=pd.crosstab(df6.Clean,df6.Overall,margins=True)\n",
    "Cle_Over"
   ]
  },
  {
   "cell_type": "code",
   "execution_count": 76,
   "id": "404259a2",
   "metadata": {},
   "outputs": [
    {
     "data": {
      "text/plain": [
       "(125.17708834561674,\n",
       " 2.67888699882328e-15,\n",
       " 25,\n",
       " array([[6.64954128e+01, 7.00183486e+01, 5.28440367e+00, 4.40366972e-01,\n",
       "         1.76146789e+00, 1.44000000e+02],\n",
       "        [7.01896024e+01, 7.39082569e+01, 5.57798165e+00, 4.64831804e-01,\n",
       "         1.85932722e+00, 1.52000000e+02],\n",
       "        [1.10825688e+01, 1.16697248e+01, 8.80733945e-01, 7.33944954e-02,\n",
       "         2.93577982e-01, 2.40000000e+01],\n",
       "        [2.30886850e+00, 2.43119266e+00, 1.83486239e-01, 1.52905199e-02,\n",
       "         6.11620795e-02, 5.00000000e+00],\n",
       "        [9.23547401e-01, 9.72477064e-01, 7.33944954e-02, 6.11620795e-03,\n",
       "         2.44648318e-02, 2.00000000e+00],\n",
       "        [1.51000000e+02, 1.59000000e+02, 1.20000000e+01, 1.00000000e+00,\n",
       "         4.00000000e+00, 3.27000000e+02]]))"
      ]
     },
     "execution_count": 76,
     "metadata": {},
     "output_type": "execute_result"
    }
   ],
   "source": [
    "stats.chi2_contingency(Cle_Over)"
   ]
  },
  {
   "cell_type": "markdown",
   "id": "7b207bf5",
   "metadata": {},
   "source": [
    "<center>Since all pvalue < 0.05, all the factors (Sinage, Parking and Cleanliness) leads to the overall satisfaction."
   ]
  },
  {
   "cell_type": "markdown",
   "id": "7447c7b1",
   "metadata": {},
   "source": [
    "<h4>5c. What is the demographic profile of Film on the Rocks patrons?"
   ]
  },
  {
   "cell_type": "code",
   "execution_count": 169,
   "id": "c34af869",
   "metadata": {},
   "outputs": [
    {
     "data": {
      "text/plain": [
       "array(['Female', 'Male'], dtype=object)"
      ]
     },
     "execution_count": 169,
     "metadata": {},
     "output_type": "execute_result"
    }
   ],
   "source": [
    "df6.Gender.unique()"
   ]
  },
  {
   "cell_type": "code",
   "execution_count": 171,
   "id": "403410e6",
   "metadata": {},
   "outputs": [
    {
     "data": {
      "image/png": "[encoded data removed]",
      "text/plain": [
       "<Figure size 432x288 with 1 Axes>"
      ]
     },
     "metadata": {
      "needs_background": "light"
     },
     "output_type": "display_data"
    }
   ],
   "source": [
    "df6.groupby(\"Gender\")[\"Gender\"].count().plot(kind='bar',color='blue')\n",
    "plt.ylabel(\"Frequency\")\n",
    "plt.show()"
   ]
  },
  {
   "cell_type": "code",
   "execution_count": 172,
   "id": "1dd7b342",
   "metadata": {},
   "outputs": [
    {
     "data": {
      "text/plain": [
       "array([ 1.,  2., nan])"
      ]
     },
     "execution_count": 172,
     "metadata": {},
     "output_type": "execute_result"
    }
   ],
   "source": [
    "df6.Marital_Status.unique()"
   ]
  },
  {
   "cell_type": "code",
   "execution_count": 183,
   "id": "b0bbb0aa",
   "metadata": {},
   "outputs": [
    {
     "data": {
      "text/plain": [
       "0      Married\n",
       "1       Single\n",
       "2      Married\n",
       "3      Married\n",
       "4      Married\n",
       "        ...   \n",
       "325     Single\n",
       "326    Married\n",
       "327    Married\n",
       "328    Married\n",
       "329     Single\n",
       "Name: Marital_Status, Length: 330, dtype: object"
      ]
     },
     "execution_count": 183,
     "metadata": {},
     "output_type": "execute_result"
    }
   ],
   "source": [
    "df6['Marital_Status']=df6['Marital_Status'].apply(lambda x: 'Married' if x==1 else x)\n",
    "df6['Marital_Status']=df6['Marital_Status'].apply(lambda x: 'Single' if x==2 else x)\n",
    "#df6['Marital_Status'].isna().sum()\n",
    "df6.Marital_Status.fillna(df6['Marital_Status'].mode())"
   ]
  },
  {
   "cell_type": "code",
   "execution_count": 188,
   "id": "e2cd60a5",
   "metadata": {},
   "outputs": [
    {
     "data": {
      "text/plain": [
       "<AxesSubplot:xlabel='Marital_Status'>"
      ]
     },
     "execution_count": 188,
     "metadata": {},
     "output_type": "execute_result"
    },
    {
     "data": {
      "image/png": "[encoded data removed]",
      "text/plain": [
       "<Figure size 432x288 with 1 Axes>"
      ]
     },
     "metadata": {
      "needs_background": "light"
     },
     "output_type": "display_data"
    }
   ],
   "source": [
    "df6.groupby('Marital_Status')['Marital_Status'].count().plot(kind='bar',color='Green')"
   ]
  },
  {
   "cell_type": "markdown",
   "id": "cb5b03c8",
   "metadata": {},
   "source": [
    "<h4>5d. In what media outlets should the film series be advertised?"
   ]
  },
  {
   "cell_type": "code",
   "execution_count": 189,
   "id": "4bd39750",
   "metadata": {},
   "outputs": [
    {
     "data": {
      "text/plain": [
       "array(['5', '1', '4', '2', '3', '4,5', '2,5', '1,5', nan, '3,4', '5,4',\n",
       "       '3,5'], dtype=object)"
      ]
     },
     "execution_count": 189,
     "metadata": {},
     "output_type": "execute_result"
    }
   ],
   "source": [
    "df6.Hear_About.unique()"
   ]
  },
  {
   "cell_type": "code",
   "execution_count": 192,
   "id": "a6ed15a6",
   "metadata": {},
   "outputs": [],
   "source": [
    "df6['Hear_New']=df6.Hear_About.map({'1':'television','2':'newspaper','3':'radio','4':'website','5':'word_of_mouth'})"
   ]
  },
  {
   "cell_type": "code",
   "execution_count": 193,
   "id": "6e050c6a",
   "metadata": {},
   "outputs": [
    {
     "data": {
      "text/plain": [
       "0      word_of_mouth\n",
       "1      word_of_mouth\n",
       "2      word_of_mouth\n",
       "3      word_of_mouth\n",
       "4         television\n",
       "           ...      \n",
       "325       television\n",
       "326    word_of_mouth\n",
       "327    word_of_mouth\n",
       "328            radio\n",
       "329    word_of_mouth\n",
       "Name: Hear_New, Length: 330, dtype: object"
      ]
     },
     "execution_count": 193,
     "metadata": {},
     "output_type": "execute_result"
    }
   ],
   "source": [
    "df6.Hear_New"
   ]
  },
  {
   "cell_type": "code",
   "execution_count": 194,
   "id": "e92a45b0",
   "metadata": {},
   "outputs": [
    {
     "data": {
      "image/png": "[encoded data removed]",
      "text/plain": [
       "<Figure size 432x288 with 1 Axes>"
      ]
     },
     "metadata": {
      "needs_background": "light"
     },
     "output_type": "display_data"
    }
   ],
   "source": [
    "df6.groupby('Hear_New')['Hear_New'].count().plot(kind='bar',color='purple',edgecolor='black')\n",
    "plt.xticks(rotation=25)\n",
    "plt.xlabel('How did they hear?')\n",
    "plt.ylabel('Count')\n",
    "plt.show()"
   ]
  },
  {
   "cell_type": "markdown",
   "id": "79098583",
   "metadata": {},
   "source": [
    "<h5>The movie news gets spread by \"Word of Mouth\" in a great scale. But the way of advertisement is through Websites. So its better to concentrate on website advertisement to gain new customers who in-turn can spread by their word of mouth. "
   ]
  }
 ],
 "metadata": {
  "kernelspec": {
   "display_name": "Python 3",
   "language": "python",
   "name": "python3"
  },
  "language_info": {
   "codemirror_mode": {
    "name": "ipython",
    "version": 3
   },
   "file_extension": ".py",
   "mimetype": "text/x-python",
   "name": "python",
   "nbconvert_exporter": "python",
   "pygments_lexer": "ipython3",
   "version": "3.8.10"
  }
 },
 "nbformat": 4,
 "nbformat_minor": 5
}
